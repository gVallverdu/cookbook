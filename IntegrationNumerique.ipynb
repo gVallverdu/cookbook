{
 "cells": [
  {
   "cell_type": "markdown",
   "metadata": {},
   "source": [
    "# Intégration numérique en Python\n",
    "\n",
    "##### Germain Salvato-Vallverdu [germain.vallverdu@univ-pau.fr](germain.vallverdu@univ-pau.fr)\n",
    "\n",
    "L'objectif de ce TP est de mettre en pratique le langage python pour intégrer numériquement une fonction.\n",
    "Après avoir étudier la fonction des méthodes basiques comme la méthode des trapèzes ou celle de Simpson\n",
    "seront implémentées. Puis les fonctions disponnibles dans numpy et scipy seront utilisées pour réaliser\n",
    "les mêmes opérations. La librairie matplotlib sera utilisée tout au long du notebook pour faire des\n",
    "représentations graphiques.\n",
    "\n",
    "Note : Ce notebook est compatible python2 et python3. Il est recommandé d'utiliser python3.\n",
    "\n",
    "### Sommaire\n",
    "\n",
    "1. [Modules python](#Modules-python)\n",
    "2. [Étude d'une fonction](#Étude-d'une-fonction)\n",
    "3. [Intégration analytique](#Intégration-analytique)\n",
    "4. [Intégration numérique](#Intégration-numérique)\n",
    "    1. [Rappels mathématiques](#Rappels-mathématiques)\n",
    "    2. [À la main](#À-la-main)\n",
    "    3. [Avec numpy](#Avec-numpy)\n",
    "\n",
    "### Modules python\n",
    "\n",
    "Commençons par charger les modules nécessaires : matplotlib pour les représentations graphiques et numpy pour les approches numériques. Ces modules peuvent être chargés selon\n",
    "\n",
    "```python\n",
    "import numpy as np\n",
    "import matplotlib.pyplot as plt\n",
    "```\n",
    "Avec ipython ou jupyter cela peut se faire via une commande magique. Ces commandes commence par un %. L'option `inline` permet d'intégrer les graphiques dans le notebook."
   ]
  },
  {
   "cell_type": "code",
   "execution_count": 3,
   "metadata": {},
   "outputs": [
    {
     "name": "stdout",
     "output_type": "stream",
     "text": [
      "Populating the interactive namespace from numpy and matplotlib\n"
     ]
    }
   ],
   "source": [
    "%pylab --no-import-all inline"
   ]
  },
  {
   "cell_type": "markdown",
   "metadata": {},
   "source": [
    "Note sur la documentation :\n",
    "\n",
    "```\n",
    "  --no-import-all  Prevent IPython from performing `import *` into the interactive namespace.\n",
    "```"
   ]
  },
  {
   "cell_type": "markdown",
   "metadata": {},
   "source": [
    "## Étude d'une fonction\n",
    "\n",
    "Dans cet exemple, nous étudierons la fonction suivante :\n",
    "\\begin{equation}\n",
    "    f(x) = (x^2 - 3x - 6) \\exp\\left(-x\\right)\n",
    "\\end{equation}\n",
    "Cette fonction est intégrable analytiquement. Il est alors nécessaires de faire deux intégrations par partie successives.\n",
    "\n",
    "Commençons par définir une fonction qui renvoie l'image de la fonction $f$ pour une valeur de $x$. La fonction exponnentielle n'est pas disponnible dans python par défaut, il faut la prendre dans le module numpy :"
   ]
  },
  {
   "cell_type": "code",
   "execution_count": 112,
   "metadata": {},
   "outputs": [],
   "source": [
    "def fonction(x):\n",
    "    \"\"\" Retourne la valeur de la fonction en x \"\"\"\n",
    "    return (x**2 - 3*x - 6) * np.exp(-x)"
   ]
  },
  {
   "cell_type": "markdown",
   "metadata": {},
   "source": [
    "Utilisons maintenant matplotlib pour représenter la fonction entre dans l'intervalle $[0;5]$."
   ]
  },
  {
   "cell_type": "code",
   "execution_count": 113,
   "metadata": {},
   "outputs": [
    {
     "data": {
      "text/plain": [
       "<matplotlib.text.Text at 0x7f7c5590c750>"
      ]
     },
     "execution_count": 113,
     "metadata": {},
     "output_type": "execute_result"
    },
    {
     "data": {
      "image/png": "[encoded data removed]",
      "text/plain": [
       "<matplotlib.figure.Figure at 0x7f7c57347150>"
      ]
     },
     "metadata": {},
     "output_type": "display_data"
    }
   ],
   "source": [
    "x = np.linspace(1, 3, 100)\n",
    "plt.plot(x, fonction(x))\n",
    "plt.grid()\n",
    "plt.xlabel(\"x\")\n",
    "plt.ylabel(\"f(x)\")"
   ]
  },
  {
   "cell_type": "markdown",
   "metadata": {},
   "source": [
    "## Intégration analytique\n",
    "\n",
    "L'intégration analytique donne :\n",
    "\n",
    "\\begin{equation}\n",
    "    \\int_1^3 (x^2 - 3x - 6) \\exp\\left(-x\\right) dx = -2.525369\n",
    "\\end{equation}"
   ]
  },
  {
   "cell_type": "code",
   "execution_count": 83,
   "metadata": {},
   "outputs": [],
   "source": [
    "analytique = -2.525369"
   ]
  },
  {
   "cell_type": "markdown",
   "metadata": {},
   "source": [
    "## Intégration numérique\n",
    "\n",
    "### Rappels mathématiques\n",
    "\n",
    "\n",
    "\n",
    "### Par la méthode des trapèzes\n",
    "\n",
    "Dans la méthode des trapèzes, l'intervalle d'intégration est découpé en petits intervalles. On dit que la fonction est discrétisée. Sur chaque petit intervalle, la fonction est approximée par une droite. L'intégrale est évaluée en calculant l'aire sous la courbe comme la somme des petites aires $S_i$, sur chaque petit intervalle, entre la droite qui approxime la courbe et l'axe des abscisses.\n",
    "\n",
    "![trapeze](./trapeze.png)\n",
    "\n",
    "Chaque point de la courbe est repéré par son indice $i$.\n",
    "\n",
    "L'aire d'un trapèze sur le petit intervalle compris entre $x_{i+1}$ et $x_i$ est donnée par :\n",
    "\\begin{equation}\n",
    "    S_i = (x_{i+1} - x_i)\\frac{f(x_{i+1}) + f(x_i)}{2}\n",
    "\\end{equation}\n",
    "L'intégrale est alors la somme des petites aires $S_i$.\n",
    "\\begin{equation}\n",
    "    I = \\sum_{i=1}^{N-1} S_i = \\sum_{i=1}^{N-1} (x_{i+1} - x_i)\\frac{f(x_{i+1}) + f(x_i)}{2}\n",
    "\\end{equation}\n",
    "Ce qui peut se simplifier de la façon suivante :\n",
    "\\begin{equation}\n",
    "    I = h\\left(\\frac{f(a)+f(b)}{2} + \\sum_{i=2}^{N-1}f(x_i)\\right)\n",
    "\\end{equation}\n",
    "Avec $h$ la largeur des petits intervalles : le pas d'intégration."
   ]
  },
  {
   "cell_type": "markdown",
   "metadata": {},
   "source": [
    "### Mise en œuvre de la méthode des trapèze."
   ]
  },
  {
   "cell_type": "markdown",
   "metadata": {},
   "source": [
    "On définit les bornes d'intégration :"
   ]
  },
  {
   "cell_type": "code",
   "execution_count": 84,
   "metadata": {},
   "outputs": [],
   "source": [
    "a, b = 1, 3"
   ]
  },
  {
   "cell_type": "markdown",
   "metadata": {},
   "source": [
    "On choisit le nombre de valeurs de x :"
   ]
  },
  {
   "cell_type": "code",
   "execution_count": 141,
   "metadata": {},
   "outputs": [],
   "source": [
    "n = 201"
   ]
  },
  {
   "cell_type": "markdown",
   "metadata": {},
   "source": [
    "Calcul de $h$, le pas. Avec $n$ valeurs de $x$, on a $n-1$ intervalles."
   ]
  },
  {
   "cell_type": "code",
   "execution_count": 142,
   "metadata": {},
   "outputs": [
    {
     "name": "stdout",
     "output_type": "stream",
     "text": [
      "0.01\n"
     ]
    }
   ],
   "source": [
    "h = (b - a) / (n - 1)\n",
    "print(h)"
   ]
  },
  {
   "cell_type": "markdown",
   "metadata": {},
   "source": [
    "On calcule les valeurs des abscisses $x_i$ :"
   ]
  },
  {
   "cell_type": "code",
   "execution_count": 154,
   "metadata": {},
   "outputs": [
    {
     "name": "stdout",
     "output_type": "stream",
     "text": [
      "201 1.0 1.01 3.0\n"
     ]
    }
   ],
   "source": [
    "x = np.linspace(a, b, n)\n",
    "print(len(x), x[0], x[1], x[-1])"
   ]
  },
  {
   "cell_type": "markdown",
   "metadata": {},
   "source": [
    "#### Première possibilité :"
   ]
  },
  {
   "cell_type": "markdown",
   "metadata": {},
   "source": [
    "Voici une première façon de faire. Il faut bien penser à initialiser la variable contenant le résultat de l'intégration."
   ]
  },
  {
   "cell_type": "code",
   "execution_count": 150,
   "metadata": {},
   "outputs": [
    {
     "name": "stdout",
     "output_type": "stream",
     "text": [
      "-2.52538674545\n"
     ]
    }
   ],
   "source": [
    "integrale = 0\n",
    "for i in range(n-1):\n",
    "    integrale += (x[i+1] - x[i])*(fonction(x[i+1]) + fonction(x[i])) / 2\n",
    "print(integrale)"
   ]
  },
  {
   "cell_type": "markdown",
   "metadata": {},
   "source": [
    "#### Seconde possibilité :"
   ]
  },
  {
   "cell_type": "markdown",
   "metadata": {},
   "source": [
    "Seconde façon de faire avec la formule simplifiée."
   ]
  },
  {
   "cell_type": "code",
   "execution_count": 155,
   "metadata": {},
   "outputs": [
    {
     "name": "stdout",
     "output_type": "stream",
     "text": [
      "-2.52538674545\n"
     ]
    }
   ],
   "source": [
    "integrale = (fonction(a) + fonction(b)) / 2\n",
    "for xi in x[1:n-1]:\n",
    "    integrale += fonction(xi)\n",
    "integrale *= h\n",
    "print(integrale)"
   ]
  },
  {
   "cell_type": "code",
   "execution_count": 1,
   "metadata": {},
   "outputs": [
    {
     "ename": "NameError",
     "evalue": "name 'fonction' is not defined",
     "output_type": "error",
     "traceback": [
      "\u001b[1;31m---------------------------------------------------------------------------\u001b[0m",
      "\u001b[1;31mNameError\u001b[0m                                 Traceback (most recent call last)",
      "\u001b[1;32m<ipython-input-1-a752eaef05ed>\u001b[0m in \u001b[0;36m<module>\u001b[1;34m()\u001b[0m\n\u001b[1;32m----> 1\u001b[1;33m \u001b[0mintegrale\u001b[0m \u001b[1;33m=\u001b[0m \u001b[1;33m(\u001b[0m\u001b[0mfonction\u001b[0m\u001b[1;33m(\u001b[0m\u001b[0ma\u001b[0m\u001b[1;33m)\u001b[0m \u001b[1;33m+\u001b[0m \u001b[0mfonction\u001b[0m\u001b[1;33m(\u001b[0m\u001b[0mb\u001b[0m\u001b[1;33m)\u001b[0m\u001b[1;33m)\u001b[0m \u001b[1;33m/\u001b[0m \u001b[1;36m2\u001b[0m\u001b[1;33m\u001b[0m\u001b[0m\n\u001b[0m\u001b[0;32m      2\u001b[0m \u001b[1;32mfor\u001b[0m \u001b[0mxi\u001b[0m \u001b[1;32min\u001b[0m \u001b[0mx\u001b[0m\u001b[1;33m[\u001b[0m\u001b[1;36m1\u001b[0m\u001b[1;33m:\u001b[0m\u001b[0mn\u001b[0m\u001b[1;33m-\u001b[0m\u001b[1;36m1\u001b[0m\u001b[1;33m]\u001b[0m\u001b[1;33m:\u001b[0m\u001b[1;33m\u001b[0m\u001b[0m\n\u001b[0;32m      3\u001b[0m     \u001b[0mintegrale\u001b[0m \u001b[1;33m+=\u001b[0m \u001b[0mfonction\u001b[0m\u001b[1;33m(\u001b[0m\u001b[0mxi\u001b[0m\u001b[1;33m)\u001b[0m\u001b[1;33m\u001b[0m\u001b[0m\n\u001b[0;32m      4\u001b[0m \u001b[0mintegrale\u001b[0m \u001b[1;33m*=\u001b[0m \u001b[0mh\u001b[0m\u001b[1;33m\u001b[0m\u001b[0m\n\u001b[0;32m      5\u001b[0m \u001b[0mprint\u001b[0m\u001b[1;33m(\u001b[0m\u001b[0mintegrale\u001b[0m\u001b[1;33m)\u001b[0m\u001b[1;33m\u001b[0m\u001b[0m\n",
      "\u001b[1;31mNameError\u001b[0m: name 'fonction' is not defined"
     ]
    }
   ],
   "source": [
    "integrale = (fonction(a) + fonction(b)) / 2\n",
    "for xi in x[1:n-1]:\n",
    "    integrale += fonction(xi)\n",
    "integrale *= h\n",
    "print(integrale)\n"
   ]
  }
 ],
 "metadata": {
  "kernelspec": {
   "display_name": "Python 3",
   "language": "python",
   "name": "python3"
  },
  "language_info": {
   "codemirror_mode": {
    "name": "ipython",
    "version": 3
   },
   "file_extension": ".py",
   "mimetype": "text/x-python",
   "name": "python",
   "nbconvert_exporter": "python",
   "pygments_lexer": "ipython3",
   "version": "3.8.5"
  }
 },
 "nbformat": 4,
 "nbformat_minor": 1
}

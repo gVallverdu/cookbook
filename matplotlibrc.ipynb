{
 "cells": [
  {
   "cell_type": "markdown",
   "metadata": {},
   "source": [
    "# Matplotlib style sheets\n",
    "\n",
    "This notebook presents how to change the style or appearance of [matplotlib](https://matplotlib.org) plots. In additiopn to the `rcParams` dictionnary, the [`matplotlib.style`](https://matplotlib.org/users/customizing.html) module provides facilities for style sheets utilisation with [matplotlib](https://matplotlib.org). Look at [this page of the matplotlib documentation](https://matplotlib.org/users/customizing.html) to know how it works in details.\n",
    "\n",
    "Hereafter, I present how to load a style and I give you a style sheet I use for my plots.\n",
    "\n",
    "## How it works"
   ]
  },
  {
   "cell_type": "code",
   "execution_count": 2,
   "metadata": {},
   "outputs": [],
   "source": [
    "import matplotlib\n",
    "import matplotlib.style as mpl_style"
   ]
  },
  {
   "cell_type": "markdown",
   "metadata": {},
   "source": [
    "The `mpl_style.available` attribute outputs the available styles. Since matplotlib version 2 and higher, you can load for example seaborn styles directly in matplotlib."
   ]
  },
  {
   "cell_type": "code",
   "execution_count": 3,
   "metadata": {},
   "outputs": [
    {
     "data": {
      "text/plain": [
       "['seaborn-dark',\n",
       " 'seaborn-darkgrid',\n",
       " 'seaborn-ticks',\n",
       " 'fivethirtyeight',\n",
       " 'seaborn-whitegrid',\n",
       " 'classic',\n",
       " '_classic_test',\n",
       " 'fast',\n",
       " 'seaborn-talk',\n",
       " 'seaborn-dark-palette',\n",
       " 'seaborn-bright',\n",
       " 'seaborn-pastel',\n",
       " 'grayscale',\n",
       " 'seaborn-notebook',\n",
       " 'ggplot',\n",
       " 'seaborn-colorblind',\n",
       " 'seaborn-muted',\n",
       " 'seaborn',\n",
       " 'Solarize_Light2',\n",
       " 'seaborn-paper',\n",
       " 'bmh',\n",
       " 'tableau-colorblind10',\n",
       " 'seaborn-white',\n",
       " 'dark_background',\n",
       " 'seaborn-poster',\n",
       " 'seaborn-deep',\n",
       " 'publi']"
      ]
     },
     "execution_count": 3,
     "metadata": {},
     "output_type": "execute_result"
    }
   ],
   "source": [
    "mpl_style.available"
   ]
  },
  {
   "cell_type": "markdown",
   "metadata": {},
   "source": [
    "If you want to use one specific style, you simply have to load it, for example for the `seaborn-dark` style,  using:"
   ]
  },
  {
   "cell_type": "code",
   "execution_count": null,
   "metadata": {},
   "outputs": [],
   "source": [
    "mpl_style.use(\"seaborn-dark\")"
   ]
  },
  {
   "cell_type": "markdown",
   "metadata": {},
   "source": [
    "Or you can also combine serveral styles:"
   ]
  },
  {
   "cell_type": "code",
   "execution_count": null,
   "metadata": {},
   "outputs": [],
   "source": [
    "mpl_style.use(\"seaborn-dark\")\n",
    "mpl_style.use([\"seaborn-ticks\", \"seaborn-dark\"])"
   ]
  },
  {
   "cell_type": "markdown",
   "metadata": {},
   "source": [
    "## Custom styles\n",
    "\n",
    "There are several ways to change globaly or temporary the plot default parameters.\n",
    "\n",
    "### Use `rcParams` dictionnary\n",
    "\n",
    "You can directly modify parameters of the `rcParams` dictionnary, for example at the beginning of a notebook, in order to apply a style to all the plots. For example, the following changes the size of the plots, the font size and ask for a grid to be drawn:\n",
    "\n",
    "```python\n",
    "plt.rcParams[\"figure.figsize\"] = (10, 6)\n",
    "plt.rcParams[\"font.size\"] = 20\n",
    "plt.rcParams[\"axes.grid\"] = True\n",
    "```\n",
    "\n",
    "### Use matplotlibrc\n",
    "\n",
    "You can [download from here](https://matplotlib.org/_static/matplotlibrc) the `matplotlibrc` file. This file contains all the style options of the plots. Modify the file as you whish in order to change the default parameters. [Look at this page](https://matplotlib.org/faq/troubleshooting_faq.html#locating-matplotlib-config-dir) in order to know where you have to save the file. \n",
    "\n",
    "If you want the parameters to be limited to a specific location, copy the `matplotlibrc` file in your working directory. Then, only the plots you will create in this directory will be affected by these parameters.\n",
    "\n",
    "### Create your own style sheet\n",
    "\n",
    "A matplotlib style sheet has the same format and syntax as the `matplotlibrc` file. You simply have to put in this file the specific parameters you need. Suppose that at the beginning of all your jupyter notebook, you always modify the same keys of the `rcParams` dictionnary. You can consider to write these parameters in a style sheet and load that parameters at the beginning of the notebook.\n",
    "\n",
    "In order to know where you have to save your style sheet, you can run the following command."
   ]
  },
  {
   "cell_type": "code",
   "execution_count": 4,
   "metadata": {},
   "outputs": [
    {
     "data": {
      "text/plain": [
       "'/Users/gvallver/.matplotlib'"
      ]
     },
     "execution_count": 4,
     "metadata": {},
     "output_type": "execute_result"
    }
   ],
   "source": [
    "matplotlib.get_configdir()"
   ]
  },
  {
   "cell_type": "markdown",
   "metadata": {},
   "source": [
    "The style sheets have to be in a subdirectory called `stylelib` of the above location. You have to save the style sheets with names such as `my_style.mplstyle`.\n",
    "\n",
    "Hereafter is the style sheet I wrote to produce figures for scientific publications. This is not a perfect style sheet but a not too bad working example. Just save it put your own touch."
   ]
  },
  {
   "cell_type": "markdown",
   "metadata": {},
   "source": [
    "#### my style sheet\n",
    "\n",
    "```matplotlibrc\n",
    "#### MATPLOTLIBRC FORMAT\n",
    "\n",
    "## matplotlib configuration for plots for publications.\n",
    "\n",
    "#### FIGURE\n",
    "figure.figsize    : 11.67, 8.27\n",
    "savefig.dpi       : 300\n",
    "savefig.bbox      : tight\n",
    "\n",
    "#### FONT\n",
    "font.size         : 24\n",
    "font.family       : serif\n",
    "\n",
    "#### LaTeX\n",
    "mathtext.default  : regular\n",
    "\n",
    "#### AXES\n",
    "axes.linewidth  : 2\n",
    "axes.grid       : True\n",
    "\n",
    "#### TICKS\n",
    "xtick.direction     : in\n",
    "xtick.top           : True\n",
    "xtick.major.width   : 2\n",
    "xtick.major.size    : 10\n",
    "xtick.minor.visible : True\n",
    "xtick.minor.width   : 2\n",
    "xtick.minor.size    : 5\n",
    "\n",
    "ytick.direction     : in\n",
    "ytick.right         : True\n",
    "ytick.major.width   : 2\n",
    "ytick.major.size    : 10\n",
    "ytick.minor.visible : True\n",
    "ytick.minor.width   : 2\n",
    "ytick.minor.size    : 5\n",
    "```"
   ]
  },
  {
   "cell_type": "markdown",
   "metadata": {},
   "source": [
    "## Example"
   ]
  },
  {
   "cell_type": "code",
   "execution_count": 5,
   "metadata": {},
   "outputs": [],
   "source": [
    "%matplotlib inline"
   ]
  },
  {
   "cell_type": "code",
   "execution_count": 6,
   "metadata": {},
   "outputs": [],
   "source": [
    "import matplotlib.pyplot as plt\n",
    "import numpy as np"
   ]
  },
  {
   "cell_type": "markdown",
   "metadata": {},
   "source": [
    "Plot a simple linear function as if it was a model of some experimental data."
   ]
  },
  {
   "cell_type": "code",
   "execution_count": 25,
   "metadata": {},
   "outputs": [
    {
     "data": {
      "text/plain": [
       "Text(0.5, 1.0, 'A plot')"
      ]
     },
     "execution_count": 25,
     "metadata": {},
     "output_type": "execute_result"
    },
    {
     "data": {
      "image/png": "[encoded data removed]",
      "text/plain": [
       "<Figure size 432x288 with 1 Axes>"
      ]
     },
     "metadata": {
      "needs_background": "light"
     },
     "output_type": "display_data"
    }
   ],
   "source": [
    "x = np.random.uniform(0, 10, 30)\n",
    "x.sort()\n",
    "yt = 2 * x + 1\n",
    "y = yt + np.random.normal(loc=0, scale=2, size=y.size)\n",
    "\n",
    "plt.plot(x, yt, label=\"model\")\n",
    "plt.plot(x, y, \"o\")\n",
    "plt.xlabel(\"x values (unit)\")\n",
    "plt.ylabel(\"y values (unit)\")\n",
    "plt.title(\"A plot\")"
   ]
  },
  {
   "cell_type": "markdown",
   "metadata": {},
   "source": [
    "Now, supposed you have saved you style sheet with as `publi.mplstyle` in the right directory. You can load the style and draw the plot:"
   ]
  },
  {
   "cell_type": "code",
   "execution_count": 27,
   "metadata": {},
   "outputs": [
    {
     "data": {
      "image/png": "[encoded data removed]",
      "text/plain": [
       "<Figure size 840.24x595.44 with 1 Axes>"
      ]
     },
     "metadata": {
      "needs_background": "light"
     },
     "output_type": "display_data"
    }
   ],
   "source": [
    "with plt.style.context(('publi')):\n",
    "    plt.plot(x, yt, label=\"model\")\n",
    "    plt.plot(x, y, \"o\")\n",
    "    plt.xlabel(\"x values (unit)\")\n",
    "    plt.ylabel(\"y values (unit)\")\n",
    "    plt.title(\"A plot\")"
   ]
  }
 ],
 "metadata": {
  "kernelspec": {
   "display_name": "Python 3",
   "language": "python",
   "name": "python3"
  },
  "language_info": {
   "codemirror_mode": {
    "name": "ipython",
    "version": 3
   },
   "file_extension": ".py",
   "mimetype": "text/x-python",
   "name": "python",
   "nbconvert_exporter": "python",
   "pygments_lexer": "ipython3",
   "version": "3.7.3"
  }
 },
 "nbformat": 4,
 "nbformat_minor": 2
}

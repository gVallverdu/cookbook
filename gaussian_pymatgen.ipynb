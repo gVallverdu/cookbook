{
 "cells": [
  {
   "cell_type": "markdown",
   "id": "076ac5fe",
   "metadata": {},
   "source": [
    "# Gaussian input/output treatments"
   ]
  },
  {
   "cell_type": "markdown",
   "id": "e8bc5006",
   "metadata": {},
   "source": [
    "## using pymatgen library\n",
    "\n",
    "Germain Salvato Vallverdu, March 23, 2023"
   ]
  },
  {
   "cell_type": "markdown",
   "id": "59f79d0b",
   "metadata": {},
   "source": [
    "### import used modules and objects"
   ]
  },
  {
   "cell_type": "markdown",
   "id": "18d39836",
   "metadata": {},
   "source": [
    "Load some pymatgen specific classes and module"
   ]
  },
  {
   "cell_type": "code",
   "execution_count": 1,
   "id": "47308b9c",
   "metadata": {
    "collapsed": false,
    "jupyter": {
     "outputs_hidden": false
    },
    "tags": []
   },
   "outputs": [],
   "source": [
    "from pymatgen.core import Molecule, Site\n",
    "from pymatgen.io.gaussian import GaussianInput, GaussianOutput"
   ]
  },
  {
   "cell_type": "markdown",
   "id": "7bb769b0",
   "metadata": {},
   "source": [
    "Image class of IPython for rendering pictures."
   ]
  },
  {
   "cell_type": "code",
   "execution_count": 2,
   "id": "aa8f6efb",
   "metadata": {
    "collapsed": false,
    "jupyter": {
     "outputs_hidden": false
    },
    "tags": []
   },
   "outputs": [],
   "source": [
    "from IPython.display import Image"
   ]
  },
  {
   "cell_type": "markdown",
   "id": "99daacc4",
   "metadata": {},
   "source": [
    "### Generate gaussian inputs"
   ]
  },
  {
   "cell_type": "markdown",
   "id": "8fd26a91",
   "metadata": {},
   "source": [
    "Hereafter is the docstring of the ```GaussianInput``` class."
   ]
  },
  {
   "cell_type": "code",
   "execution_count": 3,
   "id": "313007b3",
   "metadata": {
    "collapsed": false,
    "jupyter": {
     "outputs_hidden": false
    },
    "tags": []
   },
   "outputs": [
    {
     "name": "stdout",
     "output_type": "stream",
     "text": [
      "Help on class GaussianInput in module pymatgen.io.gaussian:\n",
      "\n",
      "class GaussianInput(builtins.object)\n",
      " |  GaussianInput(mol, charge=None, spin_multiplicity=None, title=None, functional='HF', basis_set='6-31G(d)', route_parameters=None, input_parameters=None, link0_parameters=None, dieze_tag='#P', gen_basis=None)\n",
      " |  \n",
      " |  An object representing a Gaussian input file.\n",
      " |  \n",
      " |  Methods defined here:\n",
      " |  \n",
      " |  __init__(self, mol, charge=None, spin_multiplicity=None, title=None, functional='HF', basis_set='6-31G(d)', route_parameters=None, input_parameters=None, link0_parameters=None, dieze_tag='#P', gen_basis=None)\n",
      " |      Args:\n",
      " |          mol: Input molecule. It can either be a Molecule object,\n",
      " |              a string giving the geometry in a format supported by Gaussian,\n",
      " |              or ``None``. If the molecule is ``None``, you will need to use\n",
      " |              read it in from a checkpoint. Consider adding ``CHK`` to the\n",
      " |              ``link0_parameters``.\n",
      " |          charge: Charge of the molecule. If None, charge on molecule is used.\n",
      " |              Defaults to None. This allows the input file to be set a\n",
      " |              charge independently from the molecule itself.\n",
      " |              If ``mol`` is not a Molecule object, then you must specify a charge.\n",
      " |          spin_multiplicity: Spin multiplicity of molecule. Defaults to None,\n",
      " |              which means that the spin multiplicity is set to 1 if the\n",
      " |              molecule has no unpaired electrons and to 2 if there are\n",
      " |              unpaired electrons. If ``mol`` is not a Molecule object, then you\n",
      " |               must specify the multiplicity\n",
      " |          title: Title for run. Defaults to formula of molecule if None.\n",
      " |          functional: Functional for run.\n",
      " |          basis_set: Basis set for run.\n",
      " |          route_parameters: Additional route parameters as a dict. For example,\n",
      " |              {'SP':\"\", \"SCF\":\"Tight\"}\n",
      " |          input_parameters: Additional input parameters for run as a dict. Used\n",
      " |              for example, in PCM calculations. E.g., {\"EPS\":12}\n",
      " |          link0_parameters: Link0 parameters as a dict. E.g., {\"%mem\": \"1000MW\"}\n",
      " |          dieze_tag: # preceding the route line. E.g. \"#p\"\n",
      " |          gen_basis: allows a user-specified basis set to be used in a Gaussian\n",
      " |              calculation. If this is not None, the attribute ``basis_set`` will\n",
      " |              be set to \"Gen\".\n",
      " |  \n",
      " |  __str__(self)\n",
      " |      Return str(self).\n",
      " |  \n",
      " |  as_dict(self)\n",
      " |      :return: MSONable dict\n",
      " |  \n",
      " |  get_cart_coords(self)\n",
      " |      Return the Cartesian coordinates of the molecule\n",
      " |  \n",
      " |  get_zmatrix(self)\n",
      " |      Returns a z-matrix representation of the molecule.\n",
      " |  \n",
      " |  to_string(self, cart_coords=False)\n",
      " |      Return GaussianInput string\n",
      " |      \n",
      " |      Option: when cart_coords is set to True return the Cartesian coordinates\n",
      " |              instead of the z-matrix\n",
      " |  \n",
      " |  write_file(self, filename, cart_coords=False)\n",
      " |      Write the input string into a file\n",
      " |      \n",
      " |      Option: see __str__ method\n",
      " |  \n",
      " |  ----------------------------------------------------------------------\n",
      " |  Class methods defined here:\n",
      " |  \n",
      " |  from_dict(d) from builtins.type\n",
      " |      :param d: dict\n",
      " |      :return: GaussianInput\n",
      " |  \n",
      " |  ----------------------------------------------------------------------\n",
      " |  Static methods defined here:\n",
      " |  \n",
      " |  from_file(filename)\n",
      " |      Creates GaussianInput from a file.\n",
      " |      \n",
      " |      Args:\n",
      " |          filename: Gaussian input filename\n",
      " |      \n",
      " |      Returns:\n",
      " |          GaussianInput object\n",
      " |  \n",
      " |  from_string(contents)\n",
      " |      Creates GaussianInput from a string.\n",
      " |      \n",
      " |      Args:\n",
      " |          contents: String representing an Gaussian input file.\n",
      " |      \n",
      " |      Returns:\n",
      " |          GaussianInput object\n",
      " |  \n",
      " |  ----------------------------------------------------------------------\n",
      " |  Readonly properties defined here:\n",
      " |  \n",
      " |  molecule\n",
      " |      Returns molecule associated with this GaussianInput.\n",
      " |  \n",
      " |  ----------------------------------------------------------------------\n",
      " |  Data descriptors defined here:\n",
      " |  \n",
      " |  __dict__\n",
      " |      dictionary for instance variables (if defined)\n",
      " |  \n",
      " |  __weakref__\n",
      " |      list of weak references to the object (if defined)\n",
      "\n"
     ]
    }
   ],
   "source": [
    "help(GaussianInput)"
   ]
  },
  {
   "cell_type": "markdown",
   "id": "342e0a80",
   "metadata": {},
   "source": [
    "#### Examples"
   ]
  },
  {
   "cell_type": "markdown",
   "id": "0d43b754",
   "metadata": {},
   "source": [
    "In this example, we get a $PO_2N^{2-}$ molecule and look for the best place for two Li atoms in the plane of the molecule. This example shows how to set up a Gaussian input file for all possible combinations. Coordinates of this molecule are available in xyz format :"
   ]
  },
  {
   "cell_type": "code",
   "execution_count": 4,
   "id": "95b007f4",
   "metadata": {
    "collapsed": false,
    "jupyter": {
     "outputs_hidden": false
    },
    "tags": []
   },
   "outputs": [
    {
     "name": "stdout",
     "output_type": "stream",
     "text": [
      "4\n",
      "P1 N1 O2\n",
      "P -2.714301 0.000003 0.056765\n",
      "O -1.926896 -1.284476 0.128633\n",
      "O -1.925428 1.283516 0.129485\n",
      "N -4.181288 0.000879 -0.079861\n"
     ]
    },
    {
     "data": {
      "image/png": "[encoded data removed]",
      "text/plain": [
       "<IPython.core.display.Image object>"
      ]
     },
     "execution_count": 4,
     "metadata": {},
     "output_type": "execute_result"
    }
   ],
   "source": [
    "mol = Molecule.from_file(\"data_nglview/PO2N.xyz\")\n",
    "print(mol.to(fmt=\"xyz\"))\n",
    "Image(\"data_nglview/PO2N.png\")"
   ]
  },
  {
   "cell_type": "markdown",
   "id": "627f07be",
   "metadata": {},
   "source": [
    "First we set up the three guessed positions for Li atoms in the plane of the molecule. Each position is along the bissector of two PO or PN bonds. We build a list of ```pymatgen.Site``` object which represent an atom with its symbol, coordinates ...."
   ]
  },
  {
   "cell_type": "code",
   "execution_count": 5,
   "id": "04da272c",
   "metadata": {
    "collapsed": false,
    "jupyter": {
     "outputs_hidden": false
    },
    "tags": []
   },
   "outputs": [
    {
     "name": "stdout",
     "output_type": "stream",
     "text": [
      "[Site: Li (-0.4240, -0.0010, 0.2670), Site: Li (-3.7890, -2.0310, -0.0460), Site: Li (-3.7870, 2.0320, -0.0440)]\n"
     ]
    }
   ],
   "source": [
    "posLi = [Site(\"Li\", [-0.424, -0.001,  0.267]),\n",
    "         Site(\"Li\", [-3.789, -2.031, -0.046]),\n",
    "         Site(\"Li\", [-3.787,  2.032, -0.044])]\n",
    "print(posLi)"
   ]
  },
  {
   "cell_type": "markdown",
   "id": "231d457e",
   "metadata": {},
   "source": [
    "Now for each combinaison of two Li atoms among three possibilities we will write a gaussian input file. Look at the ```combinations``` method of ```itertools``` module."
   ]
  },
  {
   "cell_type": "code",
   "execution_count": 6,
   "id": "76fb672e-9462-481c-a91f-b8846b4150a1",
   "metadata": {
    "collapsed": false,
    "jupyter": {
     "outputs_hidden": false
    },
    "tags": []
   },
   "outputs": [],
   "source": [
    "from itertools import combinations"
   ]
  },
  {
   "cell_type": "code",
   "execution_count": 7,
   "id": "2459a3ca-7e9e-4d89-a64c-7fe5f30d2114",
   "metadata": {
    "collapsed": false,
    "jupyter": {
     "outputs_hidden": false
    },
    "tags": []
   },
   "outputs": [
    {
     "name": "stdout",
     "output_type": "stream",
     "text": [
      "(Site: Li (-0.4240, -0.0010, 0.2670), Site: Li (-3.7890, -2.0310, -0.0460)) \t indices :  [0, 1]\n",
      "(Site: Li (-0.4240, -0.0010, 0.2670), Site: Li (-3.7870, 2.0320, -0.0440)) \t indices :  [0, 2]\n",
      "(Site: Li (-3.7890, -2.0310, -0.0460), Site: Li (-3.7870, 2.0320, -0.0440)) \t indices :  [1, 2]\n"
     ]
    }
   ],
   "source": [
    "for sites in combinations(posLi, 2):\n",
    "    print(sites, \"\\t indices : \", [posLi.index(site) for site in sites])"
   ]
  },
  {
   "cell_type": "markdown",
   "id": "d6c17441",
   "metadata": {},
   "source": [
    "Hereafter is the loop over combinations which will write all input files."
   ]
  },
  {
   "cell_type": "code",
   "execution_count": 8,
   "id": "a31d5a6f",
   "metadata": {
    "collapsed": false,
    "jupyter": {
     "outputs_hidden": false
    },
    "tags": []
   },
   "outputs": [
    {
     "name": "stdout",
     "output_type": "stream",
     "text": [
      "combination_01\n",
      "combination_02\n",
      "combination_12\n"
     ]
    }
   ],
   "source": [
    "# Gaussian keywords\n",
    "route_parms = {\"opt\": \"tight\", \"Freq\": \"\"}\n",
    "link0 = {\"%Nproc\": \"5\"}\n",
    "DFT = \"B3LYP\"\n",
    "\n",
    "# the loop\n",
    "for sites in combinations(posLi, 2):\n",
    "    # load the molecule\n",
    "    mol = Molecule.from_file(\"data_nglview/PO2N.xyz\")\n",
    "    \n",
    "    # set up a label according to the combination\n",
    "    title = \"combination_\" + \"\".join([str(posLi.index(site)) for site in sites])\n",
    "    print(title)\n",
    "    \n",
    "    # add the two Li atoms to the molecule\n",
    "    for site in sites:\n",
    "        mol.append(site.specie, site.coords)\n",
    "        \n",
    "    # set up the calculation\n",
    "    gau = GaussianInput(mol, charge=0, spin_multiplicity=1, title=title, \n",
    "                        functional=DFT, route_parameters=route_parms, link0_parameters=link0)\n",
    "    gau.write_file(title + \".com\", cart_coords=True)"
   ]
  },
  {
   "cell_type": "markdown",
   "id": "80688467",
   "metadata": {},
   "source": [
    "We can also load an input file and get some information."
   ]
  },
  {
   "cell_type": "code",
   "execution_count": 9,
   "id": "baecb0d1",
   "metadata": {
    "collapsed": false,
    "jupyter": {
     "outputs_hidden": false
    },
    "tags": []
   },
   "outputs": [
    {
     "name": "stdout",
     "output_type": "stream",
     "text": [
      "6-31G(d) B3LYP\n"
     ]
    }
   ],
   "source": [
    "gau = GaussianInput.from_file(\"combination_01.com\")\n",
    "print(gau.basis_set, gau.functional)"
   ]
  },
  {
   "cell_type": "code",
   "execution_count": 10,
   "id": "c40eb356",
   "metadata": {
    "collapsed": false,
    "jupyter": {
     "outputs_hidden": false
    },
    "tags": []
   },
   "outputs": [
    {
     "name": "stdout",
     "output_type": "stream",
     "text": [
      "%Nproc=5\n",
      "#P B3LYP/6-31G(d) Freq opt=tight\n",
      "\n",
      "combination_01\n",
      "\n",
      "0 1\n",
      "P -2.714301 0.000003 0.056765\n",
      "O -1.926896 -1.284476 0.128633\n",
      "O -1.925428 1.283516 0.129485\n",
      "N -4.181288 0.000879 -0.079861\n",
      "Li -0.424000 -0.001000 0.267000\n",
      "Li -3.789000 -2.031000 -0.046000\n",
      "\n",
      "\n",
      "\n",
      "\n"
     ]
    }
   ],
   "source": [
    "print(gau.to_string(cart_coords=True))"
   ]
  },
  {
   "cell_type": "markdown",
   "id": "d1b6d5f0",
   "metadata": {},
   "source": [
    "### Post-treatments of Gaussian outputs"
   ]
  },
  {
   "cell_type": "markdown",
   "id": "8a940998",
   "metadata": {},
   "source": [
    "#### Docstring of the ```GaussianOutput``` class"
   ]
  },
  {
   "cell_type": "code",
   "execution_count": 11,
   "id": "4bfe34c5",
   "metadata": {
    "collapsed": false,
    "jupyter": {
     "outputs_hidden": false
    },
    "tags": []
   },
   "outputs": [
    {
     "name": "stdout",
     "output_type": "stream",
     "text": [
      "Help on class GaussianOutput in module pymatgen.io.gaussian:\n",
      "\n",
      "class GaussianOutput(builtins.object)\n",
      " |  GaussianOutput(filename)\n",
      " |  \n",
      " |  Parser for Gaussian output files.\n",
      " |  \n",
      " |  .. note::\n",
      " |  \n",
      " |      Still in early beta.\n",
      " |  \n",
      " |  Attributes:\n",
      " |  .. attribute:: structures\n",
      " |  \n",
      " |      All structures from the calculation in the standard orientation. If the\n",
      " |      symmetry is not considered, the standard orientation is not printed out\n",
      " |      and the input orientation is used instead. Check the `standard_orientation`\n",
      " |      attribute.\n",
      " |  \n",
      " |  .. attribute:: structures_input_orientation\n",
      " |  \n",
      " |      All structures from the calculation in the input orientation or the\n",
      " |      Z-matrix orientation (if an opt=z-matrix was requested).\n",
      " |  \n",
      " |  .. attribute:: opt_structures\n",
      " |  \n",
      " |      All optimized structures from the calculation in the standard orientation,\n",
      " |      if the attribute 'standard_orientation' is True, otherwise in the input\n",
      " |      or the Z-matrix orientation.\n",
      " |  \n",
      " |  .. attribute:: energies\n",
      " |  \n",
      " |      All energies from the calculation.\n",
      " |  \n",
      " |  .. attribute:: eigenvalues\n",
      " |  \n",
      " |      List of eigenvalues for the last geometry\n",
      " |  \n",
      " |  .. attribute:: MO_coefficients\n",
      " |  \n",
      " |      Matrix of MO coefficients for the last geometry\n",
      " |  \n",
      " |  .. attribute:: cart_forces\n",
      " |  \n",
      " |      All Cartesian forces from the calculation.\n",
      " |  \n",
      " |  .. attribute:: frequencies\n",
      " |  \n",
      " |      A list for each freq calculation and for each mode of a dict with\n",
      " |      {\n",
      " |          \"frequency\": freq in cm-1,\n",
      " |          \"symmetry\": symmetry tag\n",
      " |          \"r_mass\": Reduce mass,\n",
      " |          \"f_constant\": force constant,\n",
      " |          \"IR_intensity\": IR Intensity,\n",
      " |          \"mode\": normal mode\n",
      " |       }\n",
      " |  \n",
      " |      The normal mode is a 1D vector of dx, dy dz of each atom.\n",
      " |  \n",
      " |  .. attribute:: hessian\n",
      " |  \n",
      " |      Matrix of second derivatives of the energy with respect to cartesian\n",
      " |      coordinates in the **input orientation** frame. Need #P in the\n",
      " |      route section in order to be in the output.\n",
      " |  \n",
      " |  .. attribute:: properly_terminated\n",
      " |  \n",
      " |      True if run has properly terminated\n",
      " |  \n",
      " |  .. attribute:: is_pcm\n",
      " |  \n",
      " |      True if run is a PCM run.\n",
      " |  \n",
      " |  .. attribute:: is_spin\n",
      " |  \n",
      " |      True if it is an unrestricted run\n",
      " |  \n",
      " |  .. attribute:: stationary_type\n",
      " |  \n",
      " |      If it is a relaxation run, indicates whether it is a minimum (Minimum)\n",
      " |      or a saddle point (\"Saddle\").\n",
      " |  \n",
      " |  .. attribute:: corrections\n",
      " |  \n",
      " |      Thermochemical corrections if this run is a Freq run as a dict. Keys\n",
      " |      are \"Zero-point\", \"Thermal\", \"Enthalpy\" and \"Gibbs Free Energy\"\n",
      " |  \n",
      " |  .. attribute:: functional\n",
      " |  \n",
      " |      Functional used in the run.\n",
      " |  \n",
      " |  .. attribute:: basis_set\n",
      " |  \n",
      " |      Basis set used in the run\n",
      " |  \n",
      " |  .. attribute:: route\n",
      " |  \n",
      " |      Additional route parameters as a dict. For example,\n",
      " |          {'SP':\"\", \"SCF\":\"Tight\"}\n",
      " |  \n",
      " |  .. attribute:: dieze_tag\n",
      " |  \n",
      " |      # preceding the route line, e.g. \"#P\"\n",
      " |  \n",
      " |  .. attribute:: link0\n",
      " |  \n",
      " |      Link0 parameters as a dict. E.g., {\"%mem\": \"1000MW\"}\n",
      " |  \n",
      " |  .. attribute:: charge\n",
      " |  \n",
      " |      Charge for structure\n",
      " |  \n",
      " |  .. attribute:: spin_multiplicity\n",
      " |  \n",
      " |      Spin multiplicity for structure\n",
      " |  \n",
      " |  .. attribute:: num_basis_func\n",
      " |  \n",
      " |      Number of basis functions in the run.\n",
      " |  \n",
      " |  .. attribute:: electrons\n",
      " |  \n",
      " |      number of alpha and beta electrons as (N alpha, N beta)\n",
      " |  \n",
      " |  .. attribute:: pcm\n",
      " |  \n",
      " |      PCM parameters and output if available.\n",
      " |  \n",
      " |  .. attribute:: errors\n",
      " |  \n",
      " |      error if not properly terminated (list to be completed in error_defs)\n",
      " |  \n",
      " |  .. attribute:: Mulliken_charges\n",
      " |  \n",
      " |      Mulliken atomic charges\n",
      " |  \n",
      " |  .. attribute:: eigenvectors\n",
      " |  \n",
      " |      Matrix of shape (num_basis_func, num_basis_func). Each column is an\n",
      " |      eigenvectors and contains AO coefficients of an MO.\n",
      " |  \n",
      " |      eigenvectors[Spin] = mat(num_basis_func, num_basis_func)\n",
      " |  \n",
      " |  .. attribute:: molecular_orbital\n",
      " |  \n",
      " |      MO development coefficients on AO in a more convenient array dict\n",
      " |      for each atom and basis set label.\n",
      " |  \n",
      " |      mo[Spin][OM j][atom i] = {AO_k: coeff, AO_k: coeff ... }\n",
      " |  \n",
      " |  .. attribute:: atom_basis_labels\n",
      " |  \n",
      " |      Labels of AO for each atoms. These labels are those used in the output\n",
      " |      of molecular orbital coefficients (POP=Full) and in the\n",
      " |      molecular_orbital array dict.\n",
      " |  \n",
      " |      atom_basis_labels[iatom] = [AO_k, AO_k, ...]\n",
      " |  \n",
      " |  .. attribute:: resumes\n",
      " |  \n",
      " |      List of gaussian data resume given at the end of the output file before\n",
      " |      the quotation. The resumes are given as string.\n",
      " |  \n",
      " |  .. attribute:: title\n",
      " |  \n",
      " |      Title of the gaussian run.\n",
      " |  \n",
      " |  .. attribute:: standard_orientation\n",
      " |  \n",
      " |      If True, the geometries stored in the structures are in the standard\n",
      " |      orientation. Else, the geometries are in the input orientation.\n",
      " |  \n",
      " |  .. attribute:: bond_orders\n",
      " |  \n",
      " |      Dict of bond order values read in the output file such as:\n",
      " |      {(0, 1): 0.8709, (1, 6): 1.234, ...}\n",
      " |  \n",
      " |      The keys are the atom indexes and the values are the Wiberg bond indexes\n",
      " |      that are printed using `pop=NBOREAD` and `$nbo bndidx $end`.\n",
      " |  \n",
      " |  Methods:\n",
      " |  .. method:: to_input()\n",
      " |  \n",
      " |      Return a GaussianInput object using the last geometry and the same\n",
      " |      calculation parameters.\n",
      " |  \n",
      " |  .. method:: read_scan()\n",
      " |  \n",
      " |      Read a potential energy surface from a gaussian scan calculation.\n",
      " |  \n",
      " |  .. method:: get_scan_plot()\n",
      " |  \n",
      " |      Get a matplotlib plot of the potential energy surface\n",
      " |  \n",
      " |  .. method:: save_scan_plot()\n",
      " |  \n",
      " |      Save a matplotlib plot of the potential energy surface to a file\n",
      " |  \n",
      " |  Methods defined here:\n",
      " |  \n",
      " |  __init__(self, filename)\n",
      " |      Args:\n",
      " |          filename: Filename of Gaussian output file.\n",
      " |  \n",
      " |  as_dict(self)\n",
      " |      JSON-serializable dict representation.\n",
      " |  \n",
      " |  get_scan_plot(self, coords=None)\n",
      " |      Get a matplotlib plot of the potential energy surface.\n",
      " |      \n",
      " |      Args:\n",
      " |          coords: internal coordinate name to use as abscissa.\n",
      " |  \n",
      " |  get_spectre_plot(self, sigma=0.05, step=0.01)\n",
      " |      Get a matplotlib plot of the UV-visible xas. Transitions are plotted\n",
      " |      as vertical lines and as a sum of normal functions with sigma with. The\n",
      " |      broadening is applied in energy and the xas is plotted as a function\n",
      " |      of the wavelength.\n",
      " |      \n",
      " |      Args:\n",
      " |          sigma: Full width at half maximum in eV for normal functions.\n",
      " |          step: bin interval in eV\n",
      " |      \n",
      " |      Returns:\n",
      " |          A dict: {\"energies\": values, \"lambda\": values, \"xas\": values}\n",
      " |                  where values are lists of abscissa (energies, lamba) and\n",
      " |                  the sum of gaussian functions (xas).\n",
      " |          A matplotlib plot.\n",
      " |  \n",
      " |  read_excitation_energies(self)\n",
      " |      Read a excitation energies after a TD-DFT calculation.\n",
      " |      \n",
      " |      Returns:\n",
      " |          A list: A list of tuple for each transition such as\n",
      " |                  [(energie (eV), lambda (nm), oscillatory strength), ... ]\n",
      " |  \n",
      " |  read_scan(self)\n",
      " |      Read a potential energy surface from a gaussian scan calculation.\n",
      " |      \n",
      " |      Returns:\n",
      " |          A dict: {\"energies\": [ values ],\n",
      " |                   \"coords\": {\"d1\": [ values ], \"A2\", [ values ], ... }}\n",
      " |      \n",
      " |          \"energies\" are the energies of all points of the potential energy\n",
      " |          surface. \"coords\" are the internal coordinates used to compute the\n",
      " |          potential energy surface and the internal coordinates optimized,\n",
      " |          labelled by their name as defined in the calculation.\n",
      " |  \n",
      " |  save_scan_plot(self, filename='scan.pdf', img_format='pdf', coords=None)\n",
      " |      Save matplotlib plot of the potential energy surface to a file.\n",
      " |      \n",
      " |      Args:\n",
      " |          filename: Filename to write to.\n",
      " |          img_format: Image format to use. Defaults to EPS.\n",
      " |          coords: internal coordinate name to use as abcissa.\n",
      " |  \n",
      " |  save_spectre_plot(self, filename='spectre.pdf', img_format='pdf', sigma=0.05, step=0.01)\n",
      " |      Save matplotlib plot of the spectre to a file.\n",
      " |      \n",
      " |      Args:\n",
      " |          filename: Filename to write to.\n",
      " |          img_format: Image format to use. Defaults to EPS.\n",
      " |          sigma: Full width at half maximum in eV for normal functions.\n",
      " |          step: bin interval in eV\n",
      " |  \n",
      " |  to_input(self, mol=None, charge=None, spin_multiplicity=None, title=None, functional=None, basis_set=None, route_parameters=None, input_parameters=None, link0_parameters=None, dieze_tag=None, cart_coords=False)\n",
      " |      Create a new input object using by default the last geometry read in\n",
      " |      the output file and with the same calculation parameters. Arguments\n",
      " |      are the same as GaussianInput class.\n",
      " |      \n",
      " |      Returns:\n",
      " |          gaunip (GaussianInput) : the gaussian input object\n",
      " |  \n",
      " |  ----------------------------------------------------------------------\n",
      " |  Readonly properties defined here:\n",
      " |  \n",
      " |  final_energy\n",
      " |      :return: Final energy in Gaussian output.\n",
      " |  \n",
      " |  final_structure\n",
      " |      :return: Final structure in Gaussian output.\n",
      " |  \n",
      " |  ----------------------------------------------------------------------\n",
      " |  Data descriptors defined here:\n",
      " |  \n",
      " |  __dict__\n",
      " |      dictionary for instance variables (if defined)\n",
      " |  \n",
      " |  __weakref__\n",
      " |      list of weak references to the object (if defined)\n",
      "\n"
     ]
    }
   ],
   "source": [
    "help(GaussianOutput)"
   ]
  },
  {
   "cell_type": "markdown",
   "id": "3e300b31",
   "metadata": {},
   "source": [
    "#### Examples :"
   ]
  },
  {
   "cell_type": "markdown",
   "id": "bb32178a",
   "metadata": {},
   "source": [
    "Used the ```GaussianOutput``` class to read a Gaussian output file."
   ]
  },
  {
   "cell_type": "code",
   "execution_count": 12,
   "id": "cf650a50",
   "metadata": {
    "collapsed": false,
    "jupyter": {
     "outputs_hidden": false
    },
    "tags": []
   },
   "outputs": [],
   "source": [
    "logfile = GaussianOutput(\"data_nglview/config_0123.log\")"
   ]
  },
  {
   "cell_type": "markdown",
   "id": "5cc3350c",
   "metadata": {},
   "source": [
    "Is termination ```Normal``` ?"
   ]
  },
  {
   "cell_type": "code",
   "execution_count": 13,
   "id": "73b4a0a3",
   "metadata": {
    "collapsed": false,
    "jupyter": {
     "outputs_hidden": false
    },
    "tags": []
   },
   "outputs": [
    {
     "data": {
      "text/plain": [
       "True"
      ]
     },
     "execution_count": 13,
     "metadata": {},
     "output_type": "execute_result"
    }
   ],
   "source": [
    "logfile.properly_terminated"
   ]
  },
  {
   "cell_type": "markdown",
   "id": "cdae6ec1",
   "metadata": {},
   "source": [
    "Display final energy or mulliken charges :"
   ]
  },
  {
   "cell_type": "code",
   "execution_count": 14,
   "id": "a1006100",
   "metadata": {
    "collapsed": false,
    "jupyter": {
     "outputs_hidden": false
    },
    "tags": []
   },
   "outputs": [
    {
     "data": {
      "text/plain": [
       "-1239.01264675"
      ]
     },
     "execution_count": 14,
     "metadata": {},
     "output_type": "execute_result"
    }
   ],
   "source": [
    "logfile.final_energy"
   ]
  },
  {
   "cell_type": "code",
   "execution_count": 15,
   "id": "e1d0fd3c",
   "metadata": {
    "collapsed": false,
    "jupyter": {
     "outputs_hidden": false
    },
    "tags": []
   },
   "outputs": [
    {
     "data": {
      "text/plain": [
       "{1: ['P', 1.751758],\n",
       " 2: ['P', 1.203271],\n",
       " 3: ['O', -0.722993],\n",
       " 4: ['O', -0.771242],\n",
       " 5: ['O', -0.804145],\n",
       " 6: ['O', -0.771148],\n",
       " 7: ['O', -0.633752],\n",
       " 8: ['O', -0.633729],\n",
       " 9: ['O', -0.519418],\n",
       " 10: ['Li', 0.528585],\n",
       " 11: ['Li', 0.528596],\n",
       " 12: ['Li', 0.421974],\n",
       " 13: ['Li', 0.422242]}"
      ]
     },
     "execution_count": 15,
     "metadata": {},
     "output_type": "execute_result"
    }
   ],
   "source": [
    "logfile.Mulliken_charges"
   ]
  },
  {
   "cell_type": "markdown",
   "id": "dec19bc0",
   "metadata": {},
   "source": [
    "You can extract the coordinates of the final structure. All structures are ```pymatgen.Molecule``` objects, see [here](http://pymatgen.org/_static/Molecule.html) or [the reference guide](http://pymatgen.org/pymatgen.core.html#pymatgen.core.structure.Molecule). You can do lot of stuff with this object such as : neighbors list, compute distances or the distance matrix, symmetry operation, atomic substitution ..."
   ]
  },
  {
   "cell_type": "code",
   "execution_count": 16,
   "id": "a2414705",
   "metadata": {
    "collapsed": false,
    "jupyter": {
     "outputs_hidden": false
    },
    "tags": []
   },
   "outputs": [
    {
     "name": "stdout",
     "output_type": "stream",
     "text": [
      "13\n",
      "Li4 P2 O7\n",
      "P 1.803152 -0.000062 -0.074603\n",
      "P -2.714301 0.000003 0.056765\n",
      "O 0.711492 0.000020 -1.166577\n",
      "O 1.626159 1.347642 0.712312\n",
      "O 3.338973 -0.000234 -0.476901\n",
      "O 1.625851 -1.347548 0.712612\n",
      "O -1.926896 -1.284476 0.128633\n",
      "O -1.925428 1.283516 0.129485\n",
      "O -4.181288 0.000879 -0.079861\n",
      "Li 3.387513 1.698635 0.310029\n",
      "Li 3.387174 -1.698958 0.310641\n",
      "Li -0.135176 -1.487921 -0.211882\n",
      "Li -0.134065 1.489076 -0.212137\n"
     ]
    }
   ],
   "source": [
    "print(logfile.final_structure.to(fmt=\"xyz\"))"
   ]
  },
  {
   "cell_type": "markdown",
   "id": "aacd5ea5",
   "metadata": {},
   "source": [
    "You would prefer a gaussian input format with a z-matrix of the 42th geometrical optimization step."
   ]
  },
  {
   "cell_type": "code",
   "execution_count": 17,
   "id": "3ed215b6",
   "metadata": {
    "collapsed": false,
    "jupyter": {
     "outputs_hidden": false
    },
    "tags": []
   },
   "outputs": [
    {
     "name": "stdout",
     "output_type": "stream",
     "text": [
      "#P HF/6-31G(d) \n",
      "\n",
      "Li4 P2 O7\n",
      "\n",
      "0 1\n",
      "P\n",
      "P 1 B1\n",
      "O 1 B2 2 A2\n",
      "O 1 B3 3 A3 2 D3\n",
      "O 1 B4 4 A4 3 D4\n",
      "O 1 B5 5 A5 3 D5\n",
      "O 2 B6 3 A6 6 D6\n",
      "O 2 B7 7 A7 3 D7\n",
      "O 2 B8 7 A8 8 D8\n",
      "Li 4 B9 5 A9 1 D9\n",
      "Li 6 B10 5 A10 1 D10\n",
      "Li 7 B11 3 A11 6 D11\n",
      "Li 8 B12 4 A12 3 D12\n",
      "\n",
      "B1=4.376288\n",
      "B2=1.543372\n",
      "A2=36.067295\n",
      "B3=1.572484\n",
      "A3=105.757762\n",
      "D3=-63.587256\n",
      "B4=1.587877\n",
      "A4=103.530048\n",
      "D4=127.302261\n",
      "B5=1.570339\n",
      "A5=103.613837\n",
      "D5=118.342854\n",
      "B6=1.509599\n",
      "A6=70.094274\n",
      "D6=-30.800762\n",
      "B7=1.509898\n",
      "A7=116.635764\n",
      "D7=-54.758827\n",
      "B8=1.474749\n",
      "A8=121.618553\n",
      "D8=-179.642556\n",
      "B9=1.844669\n",
      "A9=48.464768\n",
      "D9=-173.301681\n",
      "B10=1.844418\n",
      "A10=48.529403\n",
      "D10=176.422774\n",
      "B11=1.836204\n",
      "A11=36.882001\n",
      "D11=-26.625480\n",
      "B12=1.836768\n",
      "A12=14.624477\n",
      "D12=-64.000507\n",
      "\n",
      "\n",
      "\n",
      "\n"
     ]
    }
   ],
   "source": [
    "print(logfile.structures[41].to(fmt=\"gjf\"))"
   ]
  },
  {
   "cell_type": "markdown",
   "id": "d8a51e32",
   "metadata": {},
   "source": [
    "You can plot the geometrical convergence (here using plotly)."
   ]
  },
  {
   "cell_type": "code",
   "execution_count": 19,
   "id": "944408ce",
   "metadata": {
    "collapsed": false,
    "jupyter": {
     "outputs_hidden": false
    },
    "tags": []
   },
   "outputs": [],
   "source": [
    "import plotly.graph_objs as go"
   ]
  },
  {
   "cell_type": "code",
   "execution_count": 28,
   "id": "73d107f0",
   "metadata": {
    "collapsed": false,
    "jupyter": {
     "outputs_hidden": false
    },
    "tags": []
   },
   "outputs": [
    {
     "data": {
      "application/vnd.plotly.v1+json": {
       "config": {
        "plotlyServerURL": "https://plot.ly"
       },
       "data": [
        {
         "type": "scatter",
         "x": [
          0,
          1,
          2,
          3,
          4,
          5,
          6,
          7,
          8,
          9,
          10,
          11,
          12,
          13,
          14,
          15,
          16,
          17,
          18,
          19,
          20,
          21,
          22,
          23,
          24,
          25,
          26,
          27,
          28,
          29,
          30,
          31,
          32,
          33,
          34,
          35,
          36,
          37,
          38,
          39,
          40,
          41,
          42,
          43,
          44,
          45,
          46,
          47,
          48,
          49,
          50,
          51,
          52,
          53,
          54,
          55,
          56,
          57,
          58,
          59,
          60,
          61,
          62,
          63,
          64,
          65,
          66,
          67
         ],
         "y": [
          -1238.7962334,
          -1238.84812821,
          -1238.89533586,
          -1238.9139732,
          -1238.92438327,
          -1238.93263147,
          -1238.95632094,
          -1238.93284465,
          -1238.97585691,
          -1238.9823977,
          -1238.98453205,
          -1238.98537961,
          -1238.98628121,
          -1238.98730322,
          -1238.98883117,
          -1238.98965723,
          -1238.99125674,
          -1238.99228283,
          -1238.99410268,
          -1238.99554485,
          -1238.9968468,
          -1238.99950066,
          -1239.00155502,
          -1239.00264135,
          -1239.00345454,
          -1239.00412846,
          -1239.00552404,
          -1239.00736027,
          -1239.00895501,
          -1239.00978303,
          -1239.01022612,
          -1239.0107054,
          -1239.01099596,
          -1239.01119681,
          -1239.01132072,
          -1239.01141257,
          -1239.0115367,
          -1239.01159877,
          -1239.01165141,
          -1239.01172735,
          -1239.01183368,
          -1239.01187417,
          -1239.01191675,
          -1239.01199247,
          -1239.01206283,
          -1239.01211097,
          -1239.01214639,
          -1239.01217782,
          -1239.01222419,
          -1239.01228172,
          -1239.01234681,
          -1239.01239556,
          -1239.01247311,
          -1239.01256049,
          -1239.01259466,
          -1239.01260692,
          -1239.01261572,
          -1239.01262463,
          -1239.01263482,
          -1239.01263973,
          -1239.01264262,
          -1239.01264438,
          -1239.01264577,
          -1239.01264638,
          -1239.01264657,
          -1239.01264664,
          -1239.01264671,
          -1239.01264675
         ]
        }
       ],
       "layout": {
        "autosize": true,
        "template": {
         "data": {
          "bar": [
           {
            "error_x": {
             "color": "#2a3f5f"
            },
            "error_y": {
             "color": "#2a3f5f"
            },
            "marker": {
             "line": {
              "color": "white",
              "width": 0.5
             },
             "pattern": {
              "fillmode": "overlay",
              "size": 10,
              "solidity": 0.2
             }
            },
            "type": "bar"
           }
          ],
          "barpolar": [
           {
            "marker": {
             "line": {
              "color": "white",
              "width": 0.5
             },
             "pattern": {
              "fillmode": "overlay",
              "size": 10,
              "solidity": 0.2
             }
            },
            "type": "barpolar"
           }
          ],
          "carpet": [
           {
            "aaxis": {
             "endlinecolor": "#2a3f5f",
             "gridcolor": "#C8D4E3",
             "linecolor": "#C8D4E3",
             "minorgridcolor": "#C8D4E3",
             "startlinecolor": "#2a3f5f"
            },
            "baxis": {
             "endlinecolor": "#2a3f5f",
             "gridcolor": "#C8D4E3",
             "linecolor": "#C8D4E3",
             "minorgridcolor": "#C8D4E3",
             "startlinecolor": "#2a3f5f"
            },
            "type": "carpet"
           }
          ],
          "choropleth": [
           {
            "colorbar": {
             "outlinewidth": 0,
             "ticks": ""
            },
            "type": "choropleth"
           }
          ],
          "contour": [
           {
            "colorbar": {
             "outlinewidth": 0,
             "ticks": ""
            },
            "colorscale": [
             [
              0,
              "#0d0887"
             ],
             [
              0.1111111111111111,
              "#46039f"
             ],
             [
              0.2222222222222222,
              "#7201a8"
             ],
             [
              0.3333333333333333,
              "#9c179e"
             ],
             [
              0.4444444444444444,
              "#bd3786"
             ],
             [
              0.5555555555555556,
              "#d8576b"
             ],
             [
              0.6666666666666666,
              "#ed7953"
             ],
             [
              0.7777777777777778,
              "#fb9f3a"
             ],
             [
              0.8888888888888888,
              "#fdca26"
             ],
             [
              1,
              "#f0f921"
             ]
            ],
            "type": "contour"
           }
          ],
          "contourcarpet": [
           {
            "colorbar": {
             "outlinewidth": 0,
             "ticks": ""
            },
            "type": "contourcarpet"
           }
          ],
          "heatmap": [
           {
            "colorbar": {
             "outlinewidth": 0,
             "ticks": ""
            },
            "colorscale": [
             [
              0,
              "#0d0887"
             ],
             [
              0.1111111111111111,
              "#46039f"
             ],
             [
              0.2222222222222222,
              "#7201a8"
             ],
             [
              0.3333333333333333,
              "#9c179e"
             ],
             [
              0.4444444444444444,
              "#bd3786"
             ],
             [
              0.5555555555555556,
              "#d8576b"
             ],
             [
              0.6666666666666666,
              "#ed7953"
             ],
             [
              0.7777777777777778,
              "#fb9f3a"
             ],
             [
              0.8888888888888888,
              "#fdca26"
             ],
             [
              1,
              "#f0f921"
             ]
            ],
            "type": "heatmap"
           }
          ],
          "heatmapgl": [
           {
            "colorbar": {
             "outlinewidth": 0,
             "ticks": ""
            },
            "colorscale": [
             [
              0,
              "#0d0887"
             ],
             [
              0.1111111111111111,
              "#46039f"
             ],
             [
              0.2222222222222222,
              "#7201a8"
             ],
             [
              0.3333333333333333,
              "#9c179e"
             ],
             [
              0.4444444444444444,
              "#bd3786"
             ],
             [
              0.5555555555555556,
              "#d8576b"
             ],
             [
              0.6666666666666666,
              "#ed7953"
             ],
             [
              0.7777777777777778,
              "#fb9f3a"
             ],
             [
              0.8888888888888888,
              "#fdca26"
             ],
             [
              1,
              "#f0f921"
             ]
            ],
            "type": "heatmapgl"
           }
          ],
          "histogram": [
           {
            "marker": {
             "pattern": {
              "fillmode": "overlay",
              "size": 10,
              "solidity": 0.2
             }
            },
            "type": "histogram"
           }
          ],
          "histogram2d": [
           {
            "colorbar": {
             "outlinewidth": 0,
             "ticks": ""
            },
            "colorscale": [
             [
              0,
              "#0d0887"
             ],
             [
              0.1111111111111111,
              "#46039f"
             ],
             [
              0.2222222222222222,
              "#7201a8"
             ],
             [
              0.3333333333333333,
              "#9c179e"
             ],
             [
              0.4444444444444444,
              "#bd3786"
             ],
             [
              0.5555555555555556,
              "#d8576b"
             ],
             [
              0.6666666666666666,
              "#ed7953"
             ],
             [
              0.7777777777777778,
              "#fb9f3a"
             ],
             [
              0.8888888888888888,
              "#fdca26"
             ],
             [
              1,
              "#f0f921"
             ]
            ],
            "type": "histogram2d"
           }
          ],
          "histogram2dcontour": [
           {
            "colorbar": {
             "outlinewidth": 0,
             "ticks": ""
            },
            "colorscale": [
             [
              0,
              "#0d0887"
             ],
             [
              0.1111111111111111,
              "#46039f"
             ],
             [
              0.2222222222222222,
              "#7201a8"
             ],
             [
              0.3333333333333333,
              "#9c179e"
             ],
             [
              0.4444444444444444,
              "#bd3786"
             ],
             [
              0.5555555555555556,
              "#d8576b"
             ],
             [
              0.6666666666666666,
              "#ed7953"
             ],
             [
              0.7777777777777778,
              "#fb9f3a"
             ],
             [
              0.8888888888888888,
              "#fdca26"
             ],
             [
              1,
              "#f0f921"
             ]
            ],
            "type": "histogram2dcontour"
           }
          ],
          "mesh3d": [
           {
            "colorbar": {
             "outlinewidth": 0,
             "ticks": ""
            },
            "type": "mesh3d"
           }
          ],
          "parcoords": [
           {
            "line": {
             "colorbar": {
              "outlinewidth": 0,
              "ticks": ""
             }
            },
            "type": "parcoords"
           }
          ],
          "pie": [
           {
            "automargin": true,
            "type": "pie"
           }
          ],
          "scatter": [
           {
            "fillpattern": {
             "fillmode": "overlay",
             "size": 10,
             "solidity": 0.2
            },
            "type": "scatter"
           }
          ],
          "scatter3d": [
           {
            "line": {
             "colorbar": {
              "outlinewidth": 0,
              "ticks": ""
             }
            },
            "marker": {
             "colorbar": {
              "outlinewidth": 0,
              "ticks": ""
             }
            },
            "type": "scatter3d"
           }
          ],
          "scattercarpet": [
           {
            "marker": {
             "colorbar": {
              "outlinewidth": 0,
              "ticks": ""
             }
            },
            "type": "scattercarpet"
           }
          ],
          "scattergeo": [
           {
            "marker": {
             "colorbar": {
              "outlinewidth": 0,
              "ticks": ""
             }
            },
            "type": "scattergeo"
           }
          ],
          "scattergl": [
           {
            "marker": {
             "colorbar": {
              "outlinewidth": 0,
              "ticks": ""
             }
            },
            "type": "scattergl"
           }
          ],
          "scattermapbox": [
           {
            "marker": {
             "colorbar": {
              "outlinewidth": 0,
              "ticks": ""
             }
            },
            "type": "scattermapbox"
           }
          ],
          "scatterpolar": [
           {
            "marker": {
             "colorbar": {
              "outlinewidth": 0,
              "ticks": ""
             }
            },
            "type": "scatterpolar"
           }
          ],
          "scatterpolargl": [
           {
            "marker": {
             "colorbar": {
              "outlinewidth": 0,
              "ticks": ""
             }
            },
            "type": "scatterpolargl"
           }
          ],
          "scatterternary": [
           {
            "marker": {
             "colorbar": {
              "outlinewidth": 0,
              "ticks": ""
             }
            },
            "type": "scatterternary"
           }
          ],
          "surface": [
           {
            "colorbar": {
             "outlinewidth": 0,
             "ticks": ""
            },
            "colorscale": [
             [
              0,
              "#0d0887"
             ],
             [
              0.1111111111111111,
              "#46039f"
             ],
             [
              0.2222222222222222,
              "#7201a8"
             ],
             [
              0.3333333333333333,
              "#9c179e"
             ],
             [
              0.4444444444444444,
              "#bd3786"
             ],
             [
              0.5555555555555556,
              "#d8576b"
             ],
             [
              0.6666666666666666,
              "#ed7953"
             ],
             [
              0.7777777777777778,
              "#fb9f3a"
             ],
             [
              0.8888888888888888,
              "#fdca26"
             ],
             [
              1,
              "#f0f921"
             ]
            ],
            "type": "surface"
           }
          ],
          "table": [
           {
            "cells": {
             "fill": {
              "color": "#EBF0F8"
             },
             "line": {
              "color": "white"
             }
            },
            "header": {
             "fill": {
              "color": "#C8D4E3"
             },
             "line": {
              "color": "white"
             }
            },
            "type": "table"
           }
          ]
         },
         "layout": {
          "annotationdefaults": {
           "arrowcolor": "#2a3f5f",
           "arrowhead": 0,
           "arrowwidth": 1
          },
          "autotypenumbers": "strict",
          "coloraxis": {
           "colorbar": {
            "outlinewidth": 0,
            "ticks": ""
           }
          },
          "colorscale": {
           "diverging": [
            [
             0,
             "#8e0152"
            ],
            [
             0.1,
             "#c51b7d"
            ],
            [
             0.2,
             "#de77ae"
            ],
            [
             0.3,
             "#f1b6da"
            ],
            [
             0.4,
             "#fde0ef"
            ],
            [
             0.5,
             "#f7f7f7"
            ],
            [
             0.6,
             "#e6f5d0"
            ],
            [
             0.7,
             "#b8e186"
            ],
            [
             0.8,
             "#7fbc41"
            ],
            [
             0.9,
             "#4d9221"
            ],
            [
             1,
             "#276419"
            ]
           ],
           "sequential": [
            [
             0,
             "#0d0887"
            ],
            [
             0.1111111111111111,
             "#46039f"
            ],
            [
             0.2222222222222222,
             "#7201a8"
            ],
            [
             0.3333333333333333,
             "#9c179e"
            ],
            [
             0.4444444444444444,
             "#bd3786"
            ],
            [
             0.5555555555555556,
             "#d8576b"
            ],
            [
             0.6666666666666666,
             "#ed7953"
            ],
            [
             0.7777777777777778,
             "#fb9f3a"
            ],
            [
             0.8888888888888888,
             "#fdca26"
            ],
            [
             1,
             "#f0f921"
            ]
           ],
           "sequentialminus": [
            [
             0,
             "#0d0887"
            ],
            [
             0.1111111111111111,
             "#46039f"
            ],
            [
             0.2222222222222222,
             "#7201a8"
            ],
            [
             0.3333333333333333,
             "#9c179e"
            ],
            [
             0.4444444444444444,
             "#bd3786"
            ],
            [
             0.5555555555555556,
             "#d8576b"
            ],
            [
             0.6666666666666666,
             "#ed7953"
            ],
            [
             0.7777777777777778,
             "#fb9f3a"
            ],
            [
             0.8888888888888888,
             "#fdca26"
            ],
            [
             1,
             "#f0f921"
            ]
           ]
          },
          "colorway": [
           "#636efa",
           "#EF553B",
           "#00cc96",
           "#ab63fa",
           "#FFA15A",
           "#19d3f3",
           "#FF6692",
           "#B6E880",
           "#FF97FF",
           "#FECB52"
          ],
          "font": {
           "color": "#2a3f5f"
          },
          "geo": {
           "bgcolor": "white",
           "lakecolor": "white",
           "landcolor": "white",
           "showlakes": true,
           "showland": true,
           "subunitcolor": "#C8D4E3"
          },
          "hoverlabel": {
           "align": "left"
          },
          "hovermode": "closest",
          "mapbox": {
           "style": "light"
          },
          "paper_bgcolor": "white",
          "plot_bgcolor": "white",
          "polar": {
           "angularaxis": {
            "gridcolor": "#EBF0F8",
            "linecolor": "#EBF0F8",
            "ticks": ""
           },
           "bgcolor": "white",
           "radialaxis": {
            "gridcolor": "#EBF0F8",
            "linecolor": "#EBF0F8",
            "ticks": ""
           }
          },
          "scene": {
           "xaxis": {
            "backgroundcolor": "white",
            "gridcolor": "#DFE8F3",
            "gridwidth": 2,
            "linecolor": "#EBF0F8",
            "showbackground": true,
            "ticks": "",
            "zerolinecolor": "#EBF0F8"
           },
           "yaxis": {
            "backgroundcolor": "white",
            "gridcolor": "#DFE8F3",
            "gridwidth": 2,
            "linecolor": "#EBF0F8",
            "showbackground": true,
            "ticks": "",
            "zerolinecolor": "#EBF0F8"
           },
           "zaxis": {
            "backgroundcolor": "white",
            "gridcolor": "#DFE8F3",
            "gridwidth": 2,
            "linecolor": "#EBF0F8",
            "showbackground": true,
            "ticks": "",
            "zerolinecolor": "#EBF0F8"
           }
          },
          "shapedefaults": {
           "line": {
            "color": "#2a3f5f"
           }
          },
          "ternary": {
           "aaxis": {
            "gridcolor": "#DFE8F3",
            "linecolor": "#A2B1C6",
            "ticks": ""
           },
           "baxis": {
            "gridcolor": "#DFE8F3",
            "linecolor": "#A2B1C6",
            "ticks": ""
           },
           "bgcolor": "white",
           "caxis": {
            "gridcolor": "#DFE8F3",
            "linecolor": "#A2B1C6",
            "ticks": ""
           }
          },
          "title": {
           "x": 0.05
          },
          "xaxis": {
           "automargin": true,
           "gridcolor": "#EBF0F8",
           "linecolor": "#EBF0F8",
           "ticks": "",
           "title": {
            "standoff": 15
           },
           "zerolinecolor": "#EBF0F8",
           "zerolinewidth": 2
          },
          "yaxis": {
           "automargin": true,
           "gridcolor": "#EBF0F8",
           "linecolor": "#EBF0F8",
           "ticks": "",
           "title": {
            "standoff": 15
           },
           "zerolinecolor": "#EBF0F8",
           "zerolinewidth": 2
          }
         }
        },
        "xaxis": {
         "autorange": true,
         "range": [
          0,
          67
         ],
         "title": {
          "text": "step"
         },
         "type": "linear"
        },
        "yaxis": {
         "autorange": true,
         "range": [
          -1239.024669713889,
          -1238.784210436111
         ],
         "title": {
          "text": "Energy (ua)"
         },
         "type": "linear"
        }
       }
      },
      "image/png": "[encoded data removed]",
      "text/html": [
       "<div>                            <div id=\"33ca81ef-4128-4c61-a6a1-936d3118c578\" class=\"plotly-graph-div\" style=\"height:500px; width:100%;\"></div>            <script type=\"text/javascript\">                require([\"plotly\"], function(Plotly) {                    window.PLOTLYENV=window.PLOTLYENV || {};                                    if (document.getElementById(\"33ca81ef-4128-4c61-a6a1-936d3118c578\")) {                    Plotly.newPlot(                        \"33ca81ef-4128-4c61-a6a1-936d3118c578\",                        [{\"x\":[0,1,2,3,4,5,6,7,8,9,10,11,12,13,14,15,16,17,18,19,20,21,22,23,24,25,26,27,28,29,30,31,32,33,34,35,36,37,38,39,40,41,42,43,44,45,46,47,48,49,50,51,52,53,54,55,56,57,58,59,60,61,62,63,64,65,66,67],\"y\":[-1238.7962334,-1238.84812821,-1238.89533586,-1238.9139732,-1238.92438327,-1238.93263147,-1238.95632094,-1238.93284465,-1238.97585691,-1238.9823977,-1238.98453205,-1238.98537961,-1238.98628121,-1238.98730322,-1238.98883117,-1238.98965723,-1238.99125674,-1238.99228283,-1238.99410268,-1238.99554485,-1238.9968468,-1238.99950066,-1239.00155502,-1239.00264135,-1239.00345454,-1239.00412846,-1239.00552404,-1239.00736027,-1239.00895501,-1239.00978303,-1239.01022612,-1239.0107054,-1239.01099596,-1239.01119681,-1239.01132072,-1239.01141257,-1239.0115367,-1239.01159877,-1239.01165141,-1239.01172735,-1239.01183368,-1239.01187417,-1239.01191675,-1239.01199247,-1239.01206283,-1239.01211097,-1239.01214639,-1239.01217782,-1239.01222419,-1239.01228172,-1239.01234681,-1239.01239556,-1239.01247311,-1239.01256049,-1239.01259466,-1239.01260692,-1239.01261572,-1239.01262463,-1239.01263482,-1239.01263973,-1239.01264262,-1239.01264438,-1239.01264577,-1239.01264638,-1239.01264657,-1239.01264664,-1239.01264671,-1239.01264675],\"type\":\"scatter\"}],                        {\"height\":500,\"template\":{\"data\":{\"barpolar\":[{\"marker\":{\"line\":{\"color\":\"white\",\"width\":0.5},\"pattern\":{\"fillmode\":\"overlay\",\"size\":10,\"solidity\":0.2}},\"type\":\"barpolar\"}],\"bar\":[{\"error_x\":{\"color\":\"#2a3f5f\"},\"error_y\":{\"color\":\"#2a3f5f\"},\"marker\":{\"line\":{\"color\":\"white\",\"width\":0.5},\"pattern\":{\"fillmode\":\"overlay\",\"size\":10,\"solidity\":0.2}},\"type\":\"bar\"}],\"carpet\":[{\"aaxis\":{\"endlinecolor\":\"#2a3f5f\",\"gridcolor\":\"#C8D4E3\",\"linecolor\":\"#C8D4E3\",\"minorgridcolor\":\"#C8D4E3\",\"startlinecolor\":\"#2a3f5f\"},\"baxis\":{\"endlinecolor\":\"#2a3f5f\",\"gridcolor\":\"#C8D4E3\",\"linecolor\":\"#C8D4E3\",\"minorgridcolor\":\"#C8D4E3\",\"startlinecolor\":\"#2a3f5f\"},\"type\":\"carpet\"}],\"choropleth\":[{\"colorbar\":{\"outlinewidth\":0,\"ticks\":\"\"},\"type\":\"choropleth\"}],\"contourcarpet\":[{\"colorbar\":{\"outlinewidth\":0,\"ticks\":\"\"},\"type\":\"contourcarpet\"}],\"contour\":[{\"colorbar\":{\"outlinewidth\":0,\"ticks\":\"\"},\"colorscale\":[[0.0,\"#0d0887\"],[0.1111111111111111,\"#46039f\"],[0.2222222222222222,\"#7201a8\"],[0.3333333333333333,\"#9c179e\"],[0.4444444444444444,\"#bd3786\"],[0.5555555555555556,\"#d8576b\"],[0.6666666666666666,\"#ed7953\"],[0.7777777777777778,\"#fb9f3a\"],[0.8888888888888888,\"#fdca26\"],[1.0,\"#f0f921\"]],\"type\":\"contour\"}],\"heatmapgl\":[{\"colorbar\":{\"outlinewidth\":0,\"ticks\":\"\"},\"colorscale\":[[0.0,\"#0d0887\"],[0.1111111111111111,\"#46039f\"],[0.2222222222222222,\"#7201a8\"],[0.3333333333333333,\"#9c179e\"],[0.4444444444444444,\"#bd3786\"],[0.5555555555555556,\"#d8576b\"],[0.6666666666666666,\"#ed7953\"],[0.7777777777777778,\"#fb9f3a\"],[0.8888888888888888,\"#fdca26\"],[1.0,\"#f0f921\"]],\"type\":\"heatmapgl\"}],\"heatmap\":[{\"colorbar\":{\"outlinewidth\":0,\"ticks\":\"\"},\"colorscale\":[[0.0,\"#0d0887\"],[0.1111111111111111,\"#46039f\"],[0.2222222222222222,\"#7201a8\"],[0.3333333333333333,\"#9c179e\"],[0.4444444444444444,\"#bd3786\"],[0.5555555555555556,\"#d8576b\"],[0.6666666666666666,\"#ed7953\"],[0.7777777777777778,\"#fb9f3a\"],[0.8888888888888888,\"#fdca26\"],[1.0,\"#f0f921\"]],\"type\":\"heatmap\"}],\"histogram2dcontour\":[{\"colorbar\":{\"outlinewidth\":0,\"ticks\":\"\"},\"colorscale\":[[0.0,\"#0d0887\"],[0.1111111111111111,\"#46039f\"],[0.2222222222222222,\"#7201a8\"],[0.3333333333333333,\"#9c179e\"],[0.4444444444444444,\"#bd3786\"],[0.5555555555555556,\"#d8576b\"],[0.6666666666666666,\"#ed7953\"],[0.7777777777777778,\"#fb9f3a\"],[0.8888888888888888,\"#fdca26\"],[1.0,\"#f0f921\"]],\"type\":\"histogram2dcontour\"}],\"histogram2d\":[{\"colorbar\":{\"outlinewidth\":0,\"ticks\":\"\"},\"colorscale\":[[0.0,\"#0d0887\"],[0.1111111111111111,\"#46039f\"],[0.2222222222222222,\"#7201a8\"],[0.3333333333333333,\"#9c179e\"],[0.4444444444444444,\"#bd3786\"],[0.5555555555555556,\"#d8576b\"],[0.6666666666666666,\"#ed7953\"],[0.7777777777777778,\"#fb9f3a\"],[0.8888888888888888,\"#fdca26\"],[1.0,\"#f0f921\"]],\"type\":\"histogram2d\"}],\"histogram\":[{\"marker\":{\"pattern\":{\"fillmode\":\"overlay\",\"size\":10,\"solidity\":0.2}},\"type\":\"histogram\"}],\"mesh3d\":[{\"colorbar\":{\"outlinewidth\":0,\"ticks\":\"\"},\"type\":\"mesh3d\"}],\"parcoords\":[{\"line\":{\"colorbar\":{\"outlinewidth\":0,\"ticks\":\"\"}},\"type\":\"parcoords\"}],\"pie\":[{\"automargin\":true,\"type\":\"pie\"}],\"scatter3d\":[{\"line\":{\"colorbar\":{\"outlinewidth\":0,\"ticks\":\"\"}},\"marker\":{\"colorbar\":{\"outlinewidth\":0,\"ticks\":\"\"}},\"type\":\"scatter3d\"}],\"scattercarpet\":[{\"marker\":{\"colorbar\":{\"outlinewidth\":0,\"ticks\":\"\"}},\"type\":\"scattercarpet\"}],\"scattergeo\":[{\"marker\":{\"colorbar\":{\"outlinewidth\":0,\"ticks\":\"\"}},\"type\":\"scattergeo\"}],\"scattergl\":[{\"marker\":{\"colorbar\":{\"outlinewidth\":0,\"ticks\":\"\"}},\"type\":\"scattergl\"}],\"scattermapbox\":[{\"marker\":{\"colorbar\":{\"outlinewidth\":0,\"ticks\":\"\"}},\"type\":\"scattermapbox\"}],\"scatterpolargl\":[{\"marker\":{\"colorbar\":{\"outlinewidth\":0,\"ticks\":\"\"}},\"type\":\"scatterpolargl\"}],\"scatterpolar\":[{\"marker\":{\"colorbar\":{\"outlinewidth\":0,\"ticks\":\"\"}},\"type\":\"scatterpolar\"}],\"scatter\":[{\"fillpattern\":{\"fillmode\":\"overlay\",\"size\":10,\"solidity\":0.2},\"type\":\"scatter\"}],\"scatterternary\":[{\"marker\":{\"colorbar\":{\"outlinewidth\":0,\"ticks\":\"\"}},\"type\":\"scatterternary\"}],\"surface\":[{\"colorbar\":{\"outlinewidth\":0,\"ticks\":\"\"},\"colorscale\":[[0.0,\"#0d0887\"],[0.1111111111111111,\"#46039f\"],[0.2222222222222222,\"#7201a8\"],[0.3333333333333333,\"#9c179e\"],[0.4444444444444444,\"#bd3786\"],[0.5555555555555556,\"#d8576b\"],[0.6666666666666666,\"#ed7953\"],[0.7777777777777778,\"#fb9f3a\"],[0.8888888888888888,\"#fdca26\"],[1.0,\"#f0f921\"]],\"type\":\"surface\"}],\"table\":[{\"cells\":{\"fill\":{\"color\":\"#EBF0F8\"},\"line\":{\"color\":\"white\"}},\"header\":{\"fill\":{\"color\":\"#C8D4E3\"},\"line\":{\"color\":\"white\"}},\"type\":\"table\"}]},\"layout\":{\"annotationdefaults\":{\"arrowcolor\":\"#2a3f5f\",\"arrowhead\":0,\"arrowwidth\":1},\"autotypenumbers\":\"strict\",\"coloraxis\":{\"colorbar\":{\"outlinewidth\":0,\"ticks\":\"\"}},\"colorscale\":{\"diverging\":[[0,\"#8e0152\"],[0.1,\"#c51b7d\"],[0.2,\"#de77ae\"],[0.3,\"#f1b6da\"],[0.4,\"#fde0ef\"],[0.5,\"#f7f7f7\"],[0.6,\"#e6f5d0\"],[0.7,\"#b8e186\"],[0.8,\"#7fbc41\"],[0.9,\"#4d9221\"],[1,\"#276419\"]],\"sequential\":[[0.0,\"#0d0887\"],[0.1111111111111111,\"#46039f\"],[0.2222222222222222,\"#7201a8\"],[0.3333333333333333,\"#9c179e\"],[0.4444444444444444,\"#bd3786\"],[0.5555555555555556,\"#d8576b\"],[0.6666666666666666,\"#ed7953\"],[0.7777777777777778,\"#fb9f3a\"],[0.8888888888888888,\"#fdca26\"],[1.0,\"#f0f921\"]],\"sequentialminus\":[[0.0,\"#0d0887\"],[0.1111111111111111,\"#46039f\"],[0.2222222222222222,\"#7201a8\"],[0.3333333333333333,\"#9c179e\"],[0.4444444444444444,\"#bd3786\"],[0.5555555555555556,\"#d8576b\"],[0.6666666666666666,\"#ed7953\"],[0.7777777777777778,\"#fb9f3a\"],[0.8888888888888888,\"#fdca26\"],[1.0,\"#f0f921\"]]},\"colorway\":[\"#636efa\",\"#EF553B\",\"#00cc96\",\"#ab63fa\",\"#FFA15A\",\"#19d3f3\",\"#FF6692\",\"#B6E880\",\"#FF97FF\",\"#FECB52\"],\"font\":{\"color\":\"#2a3f5f\"},\"geo\":{\"bgcolor\":\"white\",\"lakecolor\":\"white\",\"landcolor\":\"white\",\"showlakes\":true,\"showland\":true,\"subunitcolor\":\"#C8D4E3\"},\"hoverlabel\":{\"align\":\"left\"},\"hovermode\":\"closest\",\"mapbox\":{\"style\":\"light\"},\"paper_bgcolor\":\"white\",\"plot_bgcolor\":\"white\",\"polar\":{\"angularaxis\":{\"gridcolor\":\"#EBF0F8\",\"linecolor\":\"#EBF0F8\",\"ticks\":\"\"},\"bgcolor\":\"white\",\"radialaxis\":{\"gridcolor\":\"#EBF0F8\",\"linecolor\":\"#EBF0F8\",\"ticks\":\"\"}},\"scene\":{\"xaxis\":{\"backgroundcolor\":\"white\",\"gridcolor\":\"#DFE8F3\",\"gridwidth\":2,\"linecolor\":\"#EBF0F8\",\"showbackground\":true,\"ticks\":\"\",\"zerolinecolor\":\"#EBF0F8\"},\"yaxis\":{\"backgroundcolor\":\"white\",\"gridcolor\":\"#DFE8F3\",\"gridwidth\":2,\"linecolor\":\"#EBF0F8\",\"showbackground\":true,\"ticks\":\"\",\"zerolinecolor\":\"#EBF0F8\"},\"zaxis\":{\"backgroundcolor\":\"white\",\"gridcolor\":\"#DFE8F3\",\"gridwidth\":2,\"linecolor\":\"#EBF0F8\",\"showbackground\":true,\"ticks\":\"\",\"zerolinecolor\":\"#EBF0F8\"}},\"shapedefaults\":{\"line\":{\"color\":\"#2a3f5f\"}},\"ternary\":{\"aaxis\":{\"gridcolor\":\"#DFE8F3\",\"linecolor\":\"#A2B1C6\",\"ticks\":\"\"},\"baxis\":{\"gridcolor\":\"#DFE8F3\",\"linecolor\":\"#A2B1C6\",\"ticks\":\"\"},\"bgcolor\":\"white\",\"caxis\":{\"gridcolor\":\"#DFE8F3\",\"linecolor\":\"#A2B1C6\",\"ticks\":\"\"}},\"title\":{\"x\":0.05},\"xaxis\":{\"automargin\":true,\"gridcolor\":\"#EBF0F8\",\"linecolor\":\"#EBF0F8\",\"ticks\":\"\",\"title\":{\"standoff\":15},\"zerolinecolor\":\"#EBF0F8\",\"zerolinewidth\":2},\"yaxis\":{\"automargin\":true,\"gridcolor\":\"#EBF0F8\",\"linecolor\":\"#EBF0F8\",\"ticks\":\"\",\"title\":{\"standoff\":15},\"zerolinecolor\":\"#EBF0F8\",\"zerolinewidth\":2}}},\"xaxis\":{\"title\":{\"text\":\"step\"}},\"yaxis\":{\"title\":{\"text\":\"Energy (ua)\"}}},                        {\"responsive\": true}                    ).then(function(){\n",
       "                            \n",
       "var gd = document.getElementById('33ca81ef-4128-4c61-a6a1-936d3118c578');\n",
       "var x = new MutationObserver(function (mutations, observer) {{\n",
       "        var display = window.getComputedStyle(gd).display;\n",
       "        if (!display || display === 'none') {{\n",
       "            console.log([gd, 'removed!']);\n",
       "            Plotly.purge(gd);\n",
       "            observer.disconnect();\n",
       "        }}\n",
       "}});\n",
       "\n",
       "// Listen for the removal of the full notebook cells\n",
       "var notebookContainer = gd.closest('#notebook-container');\n",
       "if (notebookContainer) {{\n",
       "    x.observe(notebookContainer, {childList: true});\n",
       "}}\n",
       "\n",
       "// Listen for the clearing of the current output cell\n",
       "var outputEl = gd.closest('.output');\n",
       "if (outputEl) {{\n",
       "    x.observe(outputEl, {childList: true});\n",
       "}}\n",
       "\n",
       "                        })                };                });            </script>        </div>"
      ]
     },
     "metadata": {},
     "output_type": "display_data"
    }
   ],
   "source": [
    "fig = go.Figure([\n",
    "    go.Scatter(x=[i for i in range(len(logfile.energies))], y=logfile.energies)\n",
    "],\n",
    "    layout=go.Layout(\n",
    "        xaxis=dict(title=\"step\"), \n",
    "        yaxis=dict(title=\"Energy (ua)\"),\n",
    "        template=\"plotly_white\",\n",
    "        height=500,\n",
    "    )\n",
    ")\n",
    "fig.show()"
   ]
  },
  {
   "cell_type": "code",
   "execution_count": 29,
   "id": "39ad364a-f158-439c-849f-ab3af8751894",
   "metadata": {
    "tags": []
   },
   "outputs": [],
   "source": [
    "import matplotlib.pyplot as plt"
   ]
  },
  {
   "cell_type": "code",
   "execution_count": 33,
   "id": "cec59e9b-611d-4344-bb2b-15cd7b2ec2c0",
   "metadata": {
    "tags": []
   },
   "outputs": [
    {
     "data": {
      "text/plain": [
       "Text(0, 0.5, 'Energy (ua)')"
      ]
     },
     "execution_count": 33,
     "metadata": {},
     "output_type": "execute_result"
    },
    {
     "data": {
      "image/png": "[encoded data removed]",
      "text/plain": [
       "<Figure size 1000x750 with 1 Axes>"
      ]
     },
     "metadata": {},
     "output_type": "display_data"
    }
   ],
   "source": [
    "plt.plot(logfile.energies, \"o--\")\n",
    "plt.xlabel(\"step\")\n",
    "plt.ylabel(\"Energy (ua)\")"
   ]
  }
 ],
 "metadata": {
  "kernelspec": {
   "display_name": "Python 3 (ipykernel)",
   "language": "python",
   "name": "python3"
  },
  "language_info": {
   "codemirror_mode": {
    "name": "ipython",
    "version": 3
   },
   "file_extension": ".py",
   "mimetype": "text/x-python",
   "name": "python",
   "nbconvert_exporter": "python",
   "pygments_lexer": "ipython3",
   "version": "3.11.0"
  }
 },
 "nbformat": 4,
 "nbformat_minor": 5
}

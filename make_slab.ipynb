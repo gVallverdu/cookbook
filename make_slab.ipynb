{
 "cells": [
  {
   "cell_type": "markdown",
   "metadata": {},
   "source": [
    "# Make a slab using pymatgen\n",
    "\n",
    "##### Germain Vallverdu [germain.vallverdu@univ-pau.fr](mailto:germain.vallverdu@univ-pau.fr)\n",
    "\n",
    "This cookbook shows how to set up a slab model of a surface using [pymatgen](http://pymatgen.org) from a bulk structure. We will use the [`SlabGenerator`](http://pymatgen.org/pymatgen.core.html?highlight=slab#pymatgen.core.surface.SlabGenerator) class."
   ]
  },
  {
   "cell_type": "code",
   "execution_count": 4,
   "metadata": {
    "collapsed": false
   },
   "outputs": [],
   "source": [
    "import pymatgen as mg\n",
    "from pymatgen.symmetry.analyzer import SpacegroupAnalyzer\n",
    "from pymatgen.core.surface import SlabGenerator"
   ]
  },
  {
   "cell_type": "markdown",
   "metadata": {},
   "source": [
    "# Bulk structure\n",
    "\n",
    "We will use the orthorhombic structure of LiMnO2. We would like to build slab models for the (100) and (010) surfaces represented in blue and pink in the picture below respectively.\n",
    "\n",
    "![LiMnO2](./oLiMnO2.png)"
   ]
  },
  {
   "cell_type": "code",
   "execution_count": 2,
   "metadata": {
    "collapsed": false
   },
   "outputs": [
    {
     "name": "stdout",
     "output_type": "stream",
     "text": [
      "Full Formula (Li4 Mn4 O8)\n",
      "Reduced Formula: LiMnO2\n",
      "abc   :   4.579500   5.755000   5.621200\n",
      "angles:  90.000000  90.000000  90.000000\n",
      "Sites (16)\n",
      "  #  SP       a       b      c\n",
      "---  ----  ----  ------  -----\n",
      "  0  Li    0.25  0.111   0.125\n",
      "  1  Li    0.75  0.889   0.875\n",
      "  2  Li    0.75  0.889   0.375\n",
      "  3  Li    0.25  0.111   0.625\n",
      "  4  Mn    0.25  0.632   0.125\n",
      "  5  Mn    0.75  0.368   0.875\n",
      "  6  Mn    0.75  0.368   0.375\n",
      "  7  Mn    0.25  0.632   0.625\n",
      "  8  O     0.75  0.1406  0.125\n",
      "  9  O     0.25  0.8594  0.875\n",
      " 10  O     0.25  0.8594  0.375\n",
      " 11  O     0.75  0.1406  0.625\n",
      " 12  O     0.75  0.5993  0.125\n",
      " 13  O     0.25  0.4007  0.875\n",
      " 14  O     0.25  0.4007  0.375\n",
      " 15  O     0.75  0.5993  0.625\n"
     ]
    }
   ],
   "source": [
    "bulk = mg.Structure.from_file(\"POSCAR_o-LiMnO2.vasp\")\n",
    "print(bulk)"
   ]
  },
  {
   "cell_type": "code",
   "execution_count": 3,
   "metadata": {
    "collapsed": false
   },
   "outputs": [
    {
     "data": {
      "text/plain": [
       "'Pmmn'"
      ]
     },
     "execution_count": 3,
     "metadata": {},
     "output_type": "execute_result"
    }
   ],
   "source": [
    "SGA = SpacegroupAnalyzer(bulk)\n",
    "SGA.get_spacegroup_symbol()"
   ]
  },
  {
   "cell_type": "markdown",
   "metadata": {},
   "source": [
    "# Make the (100) slab\n",
    "\n",
    "Look at the above picture. Along the [100] direction, all atomic layer sare identical. Thus, there is only one possible termination for the slab and we will obtain only one slab model.\n",
    "\n",
    "The [`SlabGenerator`](http://pymatgen.org/pymatgen.core.html?highlight=slab#pymatgen.core.surface.SlabGenerator) class needs the thickness of the slab model you want to build.\n",
    "As the distance between two layers is about 2.3 A, if you want to build a slab with three atomic layers you have to set the thickness of at least 4.6 A.\n",
    "\n",
    "Finally, we will ask for a centered slab with at least 10 A of vaccum. Considering all previous needs, you have to build a [`SlabGenerator`](http://pymatgen.org/pymatgen.core.html?highlight=slab#pymatgen.core.surface.SlabGenerator) object as folow :"
   ]
  },
  {
   "cell_type": "code",
   "execution_count": 30,
   "metadata": {
    "collapsed": true
   },
   "outputs": [],
   "source": [
    "gen_slab100 = SlabGenerator(bulk, (1, 0, 0), min_slab_size=4.3, min_vacuum_size=10., center_slab=False)"
   ]
  },
  {
   "cell_type": "markdown",
   "metadata": {},
   "source": [
    "Now, get the slab and output the structure in a POSCAR file :"
   ]
  },
  {
   "cell_type": "code",
   "execution_count": 31,
   "metadata": {
    "collapsed": false
   },
   "outputs": [
    {
     "name": "stdout",
     "output_type": "stream",
     "text": [
      "number of slabs :  1\n"
     ]
    }
   ],
   "source": [
    "slabs100 = gen_slab100.get_slabs()\n",
    "print(\"number of slabs : \", len(slabs100)) # there is only one slab\n",
    "slabs100[0].to(\"POSCAR\", \"POSCAR_100.vasp\")"
   ]
  },
  {
   "cell_type": "code",
   "execution_count": 24,
   "metadata": {
    "collapsed": true
   },
   "outputs": [],
   "source": [
    "s = slabs100[0]"
   ]
  },
  {
   "cell_type": "code",
   "execution_count": 25,
   "metadata": {
    "collapsed": false
   },
   "outputs": [
    {
     "data": {
      "text/plain": [
       "False"
      ]
     },
     "execution_count": 25,
     "metadata": {},
     "output_type": "execute_result"
    }
   ],
   "source": []
  }
 ],
 "metadata": {
  "kernelspec": {
   "display_name": "Python 3",
   "language": "python",
   "name": "python3"
  },
  "language_info": {
   "codemirror_mode": {
    "name": "ipython",
    "version": 3
   },
   "file_extension": ".py",
   "mimetype": "text/x-python",
   "name": "python",
   "nbconvert_exporter": "python",
   "pygments_lexer": "ipython3",
   "version": "3.5.1"
  }
 },
 "nbformat": 4,
 "nbformat_minor": 0
}
